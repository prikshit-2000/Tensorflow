{
  "nbformat": 4,
  "nbformat_minor": 0,
  "metadata": {
    "colab": {
      "name": "MNIST Autoencoder.ipynbplt.subplot",
      "provenance": [],
      "authorship_tag": "ABX9TyP0sHan13pLO1QFVHdcL8k5",
      "include_colab_link": true
    },
    "kernelspec": {
      "name": "python3",
      "display_name": "Python 3"
    },
    "language_info": {
      "name": "python"
    },
    "accelerator": "GPU",
    "widgets": {
      "application/vnd.jupyter.widget-state+json": {
        "2cb007fa866142d3a66f7b28fc36e72a": {
          "model_module": "@jupyter-widgets/controls",
          "model_name": "VBoxModel",
          "model_module_version": "1.5.0",
          "state": {
            "_view_name": "VBoxView",
            "_dom_classes": [],
            "_model_name": "VBoxModel",
            "_view_module": "@jupyter-widgets/controls",
            "_model_module_version": "1.5.0",
            "_view_count": null,
            "_view_module_version": "1.5.0",
            "box_style": "",
            "layout": "IPY_MODEL_f4eb13b47a2849538da28e4d9fbdd47b",
            "_model_module": "@jupyter-widgets/controls",
            "children": [
              "IPY_MODEL_cbeb8921023b4a0583f8649a4019da33",
              "IPY_MODEL_84c2579a2c74406188a55720cd58a641"
            ]
          }
        },
        "f4eb13b47a2849538da28e4d9fbdd47b": {
          "model_module": "@jupyter-widgets/base",
          "model_name": "LayoutModel",
          "model_module_version": "1.2.0",
          "state": {
            "_view_name": "LayoutView",
            "grid_template_rows": null,
            "right": null,
            "justify_content": null,
            "_view_module": "@jupyter-widgets/base",
            "overflow": null,
            "_model_module_version": "1.2.0",
            "_view_count": null,
            "flex_flow": null,
            "width": null,
            "min_width": null,
            "border": null,
            "align_items": null,
            "bottom": null,
            "_model_module": "@jupyter-widgets/base",
            "top": null,
            "grid_column": null,
            "overflow_y": null,
            "overflow_x": null,
            "grid_auto_flow": null,
            "grid_area": null,
            "grid_template_columns": null,
            "flex": null,
            "_model_name": "LayoutModel",
            "justify_items": null,
            "grid_row": null,
            "max_height": null,
            "align_content": null,
            "visibility": null,
            "align_self": null,
            "height": null,
            "min_height": null,
            "padding": null,
            "grid_auto_rows": null,
            "grid_gap": null,
            "max_width": null,
            "order": null,
            "_view_module_version": "1.2.0",
            "grid_template_areas": null,
            "object_position": null,
            "object_fit": null,
            "grid_auto_columns": null,
            "margin": null,
            "display": null,
            "left": null
          }
        },
        "cbeb8921023b4a0583f8649a4019da33": {
          "model_module": "@jupyter-widgets/controls",
          "model_name": "LabelModel",
          "model_module_version": "1.5.0",
          "state": {
            "_view_name": "LabelView",
            "style": "IPY_MODEL_7cd5aff14bf5453a89cf84e49a64e03d",
            "_dom_classes": [],
            "description": "",
            "_model_name": "LabelModel",
            "placeholder": "​",
            "_view_module": "@jupyter-widgets/controls",
            "_model_module_version": "1.5.0",
            "value": " 0.01MB of 0.01MB uploaded (0.00MB deduped)\r",
            "_view_count": null,
            "_view_module_version": "1.5.0",
            "description_tooltip": null,
            "_model_module": "@jupyter-widgets/controls",
            "layout": "IPY_MODEL_73d64aa71ce848fa94003e7d9c485196"
          }
        },
        "84c2579a2c74406188a55720cd58a641": {
          "model_module": "@jupyter-widgets/controls",
          "model_name": "FloatProgressModel",
          "model_module_version": "1.5.0",
          "state": {
            "_view_name": "ProgressView",
            "style": "IPY_MODEL_1562e44abe554911911aa0b67451d58e",
            "_dom_classes": [],
            "description": "",
            "_model_name": "FloatProgressModel",
            "bar_style": "",
            "max": 1,
            "_view_module": "@jupyter-widgets/controls",
            "_model_module_version": "1.5.0",
            "value": 1,
            "_view_count": null,
            "_view_module_version": "1.5.0",
            "orientation": "horizontal",
            "min": 0,
            "description_tooltip": null,
            "_model_module": "@jupyter-widgets/controls",
            "layout": "IPY_MODEL_cc5f3dc3209b41399464c92739b7e1bb"
          }
        },
        "7cd5aff14bf5453a89cf84e49a64e03d": {
          "model_module": "@jupyter-widgets/controls",
          "model_name": "DescriptionStyleModel",
          "model_module_version": "1.5.0",
          "state": {
            "_view_name": "StyleView",
            "_model_name": "DescriptionStyleModel",
            "description_width": "",
            "_view_module": "@jupyter-widgets/base",
            "_model_module_version": "1.5.0",
            "_view_count": null,
            "_view_module_version": "1.2.0",
            "_model_module": "@jupyter-widgets/controls"
          }
        },
        "73d64aa71ce848fa94003e7d9c485196": {
          "model_module": "@jupyter-widgets/base",
          "model_name": "LayoutModel",
          "model_module_version": "1.2.0",
          "state": {
            "_view_name": "LayoutView",
            "grid_template_rows": null,
            "right": null,
            "justify_content": null,
            "_view_module": "@jupyter-widgets/base",
            "overflow": null,
            "_model_module_version": "1.2.0",
            "_view_count": null,
            "flex_flow": null,
            "width": null,
            "min_width": null,
            "border": null,
            "align_items": null,
            "bottom": null,
            "_model_module": "@jupyter-widgets/base",
            "top": null,
            "grid_column": null,
            "overflow_y": null,
            "overflow_x": null,
            "grid_auto_flow": null,
            "grid_area": null,
            "grid_template_columns": null,
            "flex": null,
            "_model_name": "LayoutModel",
            "justify_items": null,
            "grid_row": null,
            "max_height": null,
            "align_content": null,
            "visibility": null,
            "align_self": null,
            "height": null,
            "min_height": null,
            "padding": null,
            "grid_auto_rows": null,
            "grid_gap": null,
            "max_width": null,
            "order": null,
            "_view_module_version": "1.2.0",
            "grid_template_areas": null,
            "object_position": null,
            "object_fit": null,
            "grid_auto_columns": null,
            "margin": null,
            "display": null,
            "left": null
          }
        },
        "1562e44abe554911911aa0b67451d58e": {
          "model_module": "@jupyter-widgets/controls",
          "model_name": "ProgressStyleModel",
          "model_module_version": "1.5.0",
          "state": {
            "_view_name": "StyleView",
            "_model_name": "ProgressStyleModel",
            "description_width": "",
            "_view_module": "@jupyter-widgets/base",
            "_model_module_version": "1.5.0",
            "_view_count": null,
            "_view_module_version": "1.2.0",
            "bar_color": null,
            "_model_module": "@jupyter-widgets/controls"
          }
        },
        "cc5f3dc3209b41399464c92739b7e1bb": {
          "model_module": "@jupyter-widgets/base",
          "model_name": "LayoutModel",
          "model_module_version": "1.2.0",
          "state": {
            "_view_name": "LayoutView",
            "grid_template_rows": null,
            "right": null,
            "justify_content": null,
            "_view_module": "@jupyter-widgets/base",
            "overflow": null,
            "_model_module_version": "1.2.0",
            "_view_count": null,
            "flex_flow": null,
            "width": null,
            "min_width": null,
            "border": null,
            "align_items": null,
            "bottom": null,
            "_model_module": "@jupyter-widgets/base",
            "top": null,
            "grid_column": null,
            "overflow_y": null,
            "overflow_x": null,
            "grid_auto_flow": null,
            "grid_area": null,
            "grid_template_columns": null,
            "flex": null,
            "_model_name": "LayoutModel",
            "justify_items": null,
            "grid_row": null,
            "max_height": null,
            "align_content": null,
            "visibility": null,
            "align_self": null,
            "height": null,
            "min_height": null,
            "padding": null,
            "grid_auto_rows": null,
            "grid_gap": null,
            "max_width": null,
            "order": null,
            "_view_module_version": "1.2.0",
            "grid_template_areas": null,
            "object_position": null,
            "object_fit": null,
            "grid_auto_columns": null,
            "margin": null,
            "display": null,
            "left": null
          }
        }
      }
    }
  },
  "cells": [
    {
      "cell_type": "markdown",
      "metadata": {
        "id": "view-in-github",
        "colab_type": "text"
      },
      "source": [
        "<a href=\"https://colab.research.google.com/github/prikshit-2000/Tensorflow/blob/main/MNIST_Autoencoder_ipynbplt_subplot.ipynb\" target=\"_parent\"><img src=\"https://colab.research.google.com/assets/colab-badge.svg\" alt=\"Open In Colab\"/></a>"
      ]
    },
    {
      "cell_type": "code",
      "metadata": {
        "id": "J8qHS0TQzgRQ"
      },
      "source": [
        "import numpy as np\n",
        "import tensorflow as tf\n",
        "import matplotlib.pyplot as plt\n",
        "import seaborn as sns\n",
        "%matplotlib inline\n",
        "from tensorflow.keras.layers import Dense,Conv2D,Input\n",
        "from tensorflow.keras import Sequential,Model\n",
        "from tensorflow.keras.utils import plot_model\n",
        "import  tensorflow_datasets as tfds\n",
        "import warnings\n",
        "warnings.filterwarnings('ignore')\n"
      ],
      "execution_count": 113,
      "outputs": []
    },
    {
      "cell_type": "code",
      "metadata": {
        "colab": {
          "base_uri": "https://localhost:8080/"
        },
        "id": "J3iUFqCn0O-Y",
        "outputId": "2cb62a24-e8f9-4742-a28f-7c331779873e"
      },
      "source": [
        "import wandb\n",
        "wandb.login()"
      ],
      "execution_count": 114,
      "outputs": [
        {
          "output_type": "stream",
          "name": "stderr",
          "text": [
            "\u001b[34m\u001b[1mwandb\u001b[0m: \u001b[33mWARNING\u001b[0m Calling wandb.login() after wandb.init() has no effect.\n"
          ]
        },
        {
          "output_type": "execute_result",
          "data": {
            "text/plain": [
              "True"
            ]
          },
          "metadata": {},
          "execution_count": 114
        }
      ]
    },
    {
      "cell_type": "code",
      "metadata": {
        "colab": {
          "base_uri": "https://localhost:8080/",
          "height": 176,
          "referenced_widgets": [
            "2cb007fa866142d3a66f7b28fc36e72a",
            "f4eb13b47a2849538da28e4d9fbdd47b",
            "cbeb8921023b4a0583f8649a4019da33",
            "84c2579a2c74406188a55720cd58a641",
            "7cd5aff14bf5453a89cf84e49a64e03d",
            "73d64aa71ce848fa94003e7d9c485196",
            "1562e44abe554911911aa0b67451d58e",
            "cc5f3dc3209b41399464c92739b7e1bb"
          ]
        },
        "id": "Gi3xyqA_0Zhr",
        "outputId": "e5762799-879c-446c-a734-c75bd1276211"
      },
      "source": [
        "\n",
        "config = {\n",
        "    \"learning_rate\" : 0.01,\n",
        "    \"architecture\" : \"Autoencoder\",\n",
        "    \"dataset\" : \"mnist\",\n",
        "    \"infra\" : \"colab\",\n",
        "    \"optimizer\" : \"adam\",\n",
        "    \"batch_size\" : 64,\n",
        "    \"epochs\" : 10,\n",
        "    \"loss\" : 'binary_crossentropy'\n",
        "}\n",
        "wandb.init(\n",
        "    project = \"mnist_autoencoder\",\n",
        "    notes = \"first training\",\n",
        "    tags = ['first'],\n",
        "    config = config\n",
        ")\n",
        "config = wandb.config"
      ],
      "execution_count": 115,
      "outputs": [
        {
          "output_type": "display_data",
          "data": {
            "text/html": [
              "Finishing last run (ID:xb8q804x) before initializing another..."
            ],
            "text/plain": [
              "<IPython.core.display.HTML object>"
            ]
          },
          "metadata": {}
        },
        {
          "output_type": "display_data",
          "data": {
            "text/html": [
              "<br/>Waiting for W&B process to finish, PID 1004... <strong style=\"color:green\">(success).</strong>"
            ],
            "text/plain": [
              "<IPython.core.display.HTML object>"
            ]
          },
          "metadata": {}
        },
        {
          "output_type": "display_data",
          "data": {
            "application/vnd.jupyter.widget-view+json": {
              "model_id": "2cb007fa866142d3a66f7b28fc36e72a",
              "version_minor": 0,
              "version_major": 2
            },
            "text/plain": [
              "VBox(children=(Label(value=' 0.00MB of 0.00MB uploaded (0.00MB deduped)\\r'), FloatProgress(value=1.0, max=1.0)…"
            ]
          },
          "metadata": {}
        },
        {
          "output_type": "display_data",
          "data": {
            "text/html": [
              "<style>\n",
              "    table.wandb td:nth-child(1) { padding: 0 10px; text-align: right }\n",
              "    .wandb-row { display: flex; flex-direction: row; flex-wrap: wrap; width: 100% }\n",
              "    .wandb-col { display: flex; flex-direction: column; flex-basis: 100%; flex: 1; padding: 10px; }\n",
              "    </style>\n",
              "<div class=\"wandb-row\"><div class=\"wandb-col\">\n",
              "</div><div class=\"wandb-col\">\n",
              "</div></div>\n",
              "Synced 5 W&B file(s), 0 media file(s), 0 artifact file(s) and 0 other file(s)\n",
              "<br/>Synced <strong style=\"color:#cdcd00\">olive-spaceship-2</strong>: <a href=\"https://wandb.ai/prikshit/mnist_autoencoder/runs/xb8q804x\" target=\"_blank\">https://wandb.ai/prikshit/mnist_autoencoder/runs/xb8q804x</a><br/>\n",
              "Find logs at: <code>./wandb/run-20211129_045856-xb8q804x/logs</code><br/>\n"
            ],
            "text/plain": [
              "<IPython.core.display.HTML object>"
            ]
          },
          "metadata": {}
        },
        {
          "output_type": "display_data",
          "data": {
            "text/html": [
              "Successfully finished last run (ID:xb8q804x). Initializing new run:<br/>"
            ],
            "text/plain": [
              "<IPython.core.display.HTML object>"
            ]
          },
          "metadata": {}
        },
        {
          "output_type": "display_data",
          "data": {
            "text/html": [
              "\n",
              "                    Syncing run <strong><a href=\"https://wandb.ai/prikshit/mnist_autoencoder/runs/1acugz5j\" target=\"_blank\">dry-snow-3</a></strong> to <a href=\"https://wandb.ai/prikshit/mnist_autoencoder\" target=\"_blank\">Weights & Biases</a> (<a href=\"https://docs.wandb.com/integrations/jupyter.html\" target=\"_blank\">docs</a>).<br/>\n",
              "\n",
              "                "
            ],
            "text/plain": [
              "<IPython.core.display.HTML object>"
            ]
          },
          "metadata": {}
        }
      ]
    },
    {
      "cell_type": "code",
      "metadata": {
        "id": "eh0cJ-r94JeV"
      },
      "source": [
        "def preprocess(image,label):\n",
        "    image = tf.cast(image,tf.float32)\n",
        "    image = image /255.0\n",
        "    image = tf.reshape(image,shape =(784,))\n",
        "    return image,image"
      ],
      "execution_count": 116,
      "outputs": []
    },
    {
      "cell_type": "code",
      "metadata": {
        "id": "WI5OW-oO2Qo8"
      },
      "source": [
        "\n",
        "\n",
        "train_dataset = tfds.load('mnist',split = 'train',as_supervised=True).map(preprocess).shuffle(1024).batch(BATCH_SIZE).repeat().prefetch(tf.data.experimental.AUTOTUNE)\n",
        "\n",
        "\n",
        "test_dataset = tfds.load('mnist',split = 'test',as_supervised=True).map(preprocess).shuffle(1024).batch(BATCH_SIZE).repeat().prefetch(tf.data.experimental.AUTOTUNE)"
      ],
      "execution_count": 117,
      "outputs": []
    },
    {
      "cell_type": "code",
      "metadata": {
        "id": "6fkNGQUp4ybb"
      },
      "source": [
        "def autoencoder(inputs):\n",
        "    \n",
        "    encoder  = Dense(32,activation = 'relu')(inputs)\n",
        "    encoder_output = Model(inputs = inputs , outputs = encoder)\n",
        "                                \n",
        "    decoder = Dense(784,activation='sigmoid')(encoder)\n",
        "    decoder_output = Model(inputs = inputs , outputs = decoder)\n",
        "                    \n",
        "    return encoder_output,decoder_output\n",
        "    "
      ],
      "execution_count": 118,
      "outputs": []
    },
    {
      "cell_type": "code",
      "metadata": {
        "id": "r-x1zY6i5txB"
      },
      "source": [
        "inputs = Input(shape = (784,))\n",
        "encoder,decoder  = autoencoder(inputs)\n"
      ],
      "execution_count": 119,
      "outputs": []
    },
    {
      "cell_type": "code",
      "metadata": {
        "id": "88GMhIhV59pH"
      },
      "source": [
        "# encoder.compile(loss = config.loss ,optimizer = config.optimizer,metrics = ['loss'])\n",
        "decoder.compile(loss = config.loss ,optimizer = config.optimizer)"
      ],
      "execution_count": 120,
      "outputs": []
    },
    {
      "cell_type": "code",
      "metadata": {
        "colab": {
          "base_uri": "https://localhost:8080/"
        },
        "id": "nLhZPt3o9OPc",
        "outputId": "cbcf7de7-7271-427b-f733-59f92222a616"
      },
      "source": [
        "\n",
        "decoder.fit(train_dataset,epochs  = config.epochs,steps_per_epoch = 100)\n",
        "# decoder.fit()"
      ],
      "execution_count": 121,
      "outputs": [
        {
          "output_type": "stream",
          "name": "stdout",
          "text": [
            "Epoch 1/10\n",
            "100/100 [==============================] - 2s 12ms/step - loss: 0.3641\n",
            "Epoch 2/10\n",
            "100/100 [==============================] - 1s 12ms/step - loss: 0.2301\n",
            "Epoch 3/10\n",
            "100/100 [==============================] - 1s 12ms/step - loss: 0.1977\n",
            "Epoch 4/10\n",
            "100/100 [==============================] - 1s 12ms/step - loss: 0.1824\n",
            "Epoch 5/10\n",
            "100/100 [==============================] - 1s 12ms/step - loss: 0.1703\n",
            "Epoch 6/10\n",
            "100/100 [==============================] - 1s 12ms/step - loss: 0.1611\n",
            "Epoch 7/10\n",
            "100/100 [==============================] - 1s 12ms/step - loss: 0.1530\n",
            "Epoch 8/10\n",
            "100/100 [==============================] - 1s 12ms/step - loss: 0.1457\n",
            "Epoch 9/10\n",
            "100/100 [==============================] - 1s 12ms/step - loss: 0.1401\n",
            "Epoch 10/10\n",
            "100/100 [==============================] - 1s 7ms/step - loss: 0.1338\n"
          ]
        },
        {
          "output_type": "execute_result",
          "data": {
            "text/plain": [
              "<keras.callbacks.History at 0x7f8e3ea06210>"
            ]
          },
          "metadata": {},
          "execution_count": 121
        }
      ]
    },
    {
      "cell_type": "code",
      "metadata": {
        "id": "z6GvaxC9_xky"
      },
      "source": [
        "def display_one_row(disp_images , offset , shape = (28,28)):\n",
        "    for idx,test_image in enumerate(disp_images):\n",
        "        plt.subplot(3,10,offset + idx+1)\n",
        "        plt.yticks([])\n",
        "        plt.xticks([])\n",
        "        test_image = tf.reshape(test_image,shape)\n",
        "        plt.imshow(test_image,cmap = 'gray')\n",
        "\n",
        "def display_results(disp_input_images , disp_encoded , disp_predicted , enc_shape = (8,4)):\n",
        "    plt.figure(figsize = (12,8))\n",
        "    display_one_row(disp_input_images , 0)\n",
        "    display_one_row(disp_encoded,10,enc_shape)\n",
        "    display_one_row(disp_predicted,20)\n"
      ],
      "execution_count": 126,
      "outputs": []
    },
    {
      "cell_type": "code",
      "metadata": {
        "colab": {
          "base_uri": "https://localhost:8080/",
          "height": 398
        },
        "id": "UpD8L_WNDnYh",
        "outputId": "decec007-60dc-4fb9-d5c7-23c773d5e159"
      },
      "source": [
        "test_dataset = test_dataset.take(1)\n",
        "output_samples = []\n",
        "for input_image,image in tfds.as_numpy(test_dataset):\n",
        "    output_samples = input_image\n",
        "idxs = np.random.choice(config.batch_size,size = 10)\n",
        "encoded_predicted = encoder.predict(test_dataset)\n",
        "simple_predicted = decoder.predict(test_dataset)\n",
        "display_results(output_samples[idxs], encoded_predicted[idxs], simple_predicted[idxs])\n"
      ],
      "execution_count": 127,
      "outputs": [
        {
          "output_type": "display_data",
          "data": {
            "image/png": "[encoded data removed]",
            "text/plain": [
              "<Figure size 864x576 with 30 Axes>"
            ]
          },
          "metadata": {}
        }
      ]
    },
    {
      "cell_type": "code",
      "metadata": {
        "id": "wsT1vA_PNB6B"
      },
      "source": [
        ""
      ],
      "execution_count": null,
      "outputs": []
    }
  ]
}