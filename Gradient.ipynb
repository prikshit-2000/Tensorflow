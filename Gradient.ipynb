{
  "nbformat": 4,
  "nbformat_minor": 0,
  "metadata": {
    "colab": {
      "name": "Gradient.ipynb",
      "provenance": [],
      "authorship_tag": "ABX9TyPMcQh4fPGSLK0G8ok8mp71",
      "include_colab_link": true
    },
    "kernelspec": {
      "name": "python3",
      "display_name": "Python 3"
    },
    "language_info": {
      "name": "python"
    }
  },
  "cells": [
    {
      "cell_type": "markdown",
      "metadata": {
        "id": "view-in-github",
        "colab_type": "text"
      },
      "source": [
        "<a href=\"https://colab.research.google.com/github/prikshit-2000/Tensorflow/blob/main/Gradient.ipynb\" target=\"_parent\"><img src=\"https://colab.research.google.com/assets/colab-badge.svg\" alt=\"Open In Colab\"/></a>"
      ]
    },
    {
      "cell_type": "code",
      "metadata": {
        "id": "P_7uS5S_i2z_"
      },
      "source": [
        "import tensorflow as tf\n",
        "import numpy as np\n",
        "import random"
      ],
      "execution_count": 34,
      "outputs": []
    },
    {
      "cell_type": "code",
      "metadata": {
        "id": "ZcHfMowejC20"
      },
      "source": [
        "x = np.array([0,1,2,3,4,5],dtype = float)\n",
        "y = np.array([-1,1,3,5,7,9],dtype = float)\n",
        "w = tf.Variable(random.random(),trainable=True)\n",
        "b = tf.Variable(random.random(),trainable = True)"
      ],
      "execution_count": 62,
      "outputs": []
    },
    {
      "cell_type": "code",
      "metadata": {
        "id": "UdPAMfLRjZ2X"
      },
      "source": [
        "def simple_loss(real_y,pred_y):\n",
        "  return tf.abs(real_y - pred_y)\n",
        "Learning_rate = 0.01"
      ],
      "execution_count": 63,
      "outputs": []
    },
    {
      "cell_type": "code",
      "metadata": {
        "id": "nmZ2dcpcjkGn"
      },
      "source": [
        "def fit_data(real_x,real_y):\n",
        "  with tf.GradientTape(persistent = True) as tape:\n",
        "    pred = w*real_x + b\n",
        "    reg_loss = simple_loss(real_y,pred)\n",
        "  \n",
        "  gradient_w = tape.gradient(reg_loss,w)\n",
        "  gradient_b = tape.gradient(reg_loss,b)\n",
        "\n",
        "  w.assign_sub(Learning_rate * gradient_w)\n",
        "  b.assign_sub(gradient_b * Learning_rate)\n"
      ],
      "execution_count": 76,
      "outputs": []
    },
    {
      "cell_type": "code",
      "metadata": {
        "id": "Dv5LigQEk9x0"
      },
      "source": [
        "for _ in range(500):\n",
        "  fit_data(x,y)"
      ],
      "execution_count": 77,
      "outputs": []
    },
    {
      "cell_type": "code",
      "metadata": {
        "colab": {
          "base_uri": "https://localhost:8080/"
        },
        "id": "-pDbAn12lD8O",
        "outputId": "18e58726-e362-43d0-9a90-f4b4af6770dd"
      },
      "source": [
        "print(w,b)"
      ],
      "execution_count": 78,
      "outputs": [
        {
          "output_type": "stream",
          "name": "stdout",
          "text": [
            "<tf.Variable 'Variable:0' shape=() dtype=float32, numpy=1.9397565> <tf.Variable 'Variable:0' shape=() dtype=float32, numpy=-1.0128341>\n"
          ]
        }
      ]
    },
    {
      "cell_type": "code",
      "metadata": {
        "id": "3SwMxjtIniZw"
      },
      "source": [
        ""
      ],
      "execution_count": null,
      "outputs": []
    }
  ]
}