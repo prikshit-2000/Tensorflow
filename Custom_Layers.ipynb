{
  "nbformat": 4,
  "nbformat_minor": 0,
  "metadata": {
    "colab": {
      "name": "Custom Layers.ipynb",
      "provenance": [],
      "authorship_tag": "ABX9TyOEghvHVxK9WLXZxeclKjvQ",
      "include_colab_link": true
    },
    "kernelspec": {
      "name": "python3",
      "display_name": "Python 3"
    },
    "language_info": {
      "name": "python"
    }
  },
  "cells": [
    {
      "cell_type": "markdown",
      "metadata": {
        "id": "view-in-github",
        "colab_type": "text"
      },
      "source": [
        "<a href=\"https://colab.research.google.com/github/prikshit-2000/Tensorflow/blob/main/Custom_Layers.ipynb\" target=\"_parent\"><img src=\"https://colab.research.google.com/assets/colab-badge.svg\" alt=\"Open In Colab\"/></a>"
      ]
    },
    {
      "cell_type": "code",
      "metadata": {
        "id": "NvJ_TLAeC9Qe"
      },
      "source": [
        "import tensorflow as tf\n",
        "from tensorflow.keras import backend as K\n",
        "from tensorflow.keras.layers import Dense,Flatten,Lambda\n",
        "from tensorflow.keras.models import Sequential\n",
        "import numpy as np\n",
        "from tensorflow.keras.layers import Layer\n",
        "from tensorflow.keras.datasets import mnist"
      ],
      "execution_count": null,
      "outputs": []
    },
    {
      "cell_type": "code",
      "metadata": {
        "colab": {
          "base_uri": "https://localhost:8080/"
        },
        "id": "-5F5GXgODaXL",
        "outputId": "025225c3-0646-4313-d6ce-ad72494311ca"
      },
      "source": [
        "(x_train  , y_train)  , (x_test , y_test) = mnist.load_data()\n",
        "x_train , x_test = x_train/255.0 , x_test/255.0"
      ],
      "execution_count": null,
      "outputs": [
        {
          "output_type": "stream",
          "name": "stdout",
          "text": [
            "Downloading data from https://storage.googleapis.com/tensorflow/tf-keras-datasets/mnist.npz\n",
            "11493376/11490434 [==============================] - 0s 0us/step\n",
            "11501568/11490434 [==============================] - 0s 0us/step\n"
          ]
        }
      ]
    },
    {
      "cell_type": "code",
      "metadata": {
        "id": "XxmZ5oJyDvNV"
      },
      "source": [
        "class SimpleDense(Layer):\n",
        "    def __init__(self,units = 32):\n",
        "        super(SimpleDense,self).__init__()\n",
        "        self.units   = units\n",
        "\n",
        "    def build(self,input_shape):\n",
        "        w_init = tf.random_normal_initializer()\n",
        "        self.w = tf.Variable(initial_value=w_init(shape = (input_shape[-1],self.units),dtype = 'float32' ),name = 'kernel',trainable=True)\n",
        "        b_initializer  = tf.zeros_initializer()\n",
        "        self.b = tf.Variable(initial_value=b_initializer(shape = (self.units,),dtype = 'float32' ),name = 'bias' , trainable=True)\n",
        "\n",
        "\n",
        "\n",
        "    def call(self,inputs):\n",
        "        return tf.matmul(inputs,self.w) + self.b\n"
      ],
      "execution_count": null,
      "outputs": []
    },
    {
      "cell_type": "code",
      "metadata": {
        "id": "3R_YXDuPEEp6"
      },
      "source": [
        "model = Sequential([\n",
        "                    Flatten(input_shape = (28,28, )),\n",
        "                    SimpleDense(128),\n",
        "                    Lambda(lambda x : tf.abs(x)),\n",
        "                    Dense(10 , activation = 'softmax')\n",
        "\n",
        "])"
      ],
      "execution_count": null,
      "outputs": []
    },
    {
      "cell_type": "code",
      "metadata": {
        "colab": {
          "base_uri": "https://localhost:8080/"
        },
        "id": "RViHcSqGGzNe",
        "outputId": "22e3627a-9ffc-49af-8693-a74ac1bac17f"
      },
      "source": [
        "model.compile(optimizer='adam' , loss = 'sparse_categorical_crossentropy',metrics = ['accuracy'])\n",
        "model.fit(x_train,y_train, epochs = 10 , validation_data=(x_test,y_test))\n",
        "model.evaluate(x_test , y_test)"
      ],
      "execution_count": null,
      "outputs": [
        {
          "output_type": "stream",
          "name": "stdout",
          "text": [
            "Epoch 1/10\n",
            "1875/1875 [==============================] - 5s 2ms/step - loss: 0.0162 - accuracy: 0.9952 - val_loss: 0.1065 - val_accuracy: 0.9756\n",
            "Epoch 2/10\n",
            "1875/1875 [==============================] - 4s 2ms/step - loss: 0.0148 - accuracy: 0.9952 - val_loss: 0.0971 - val_accuracy: 0.9773\n",
            "Epoch 3/10\n",
            "1875/1875 [==============================] - 4s 2ms/step - loss: 0.0118 - accuracy: 0.9960 - val_loss: 0.1144 - val_accuracy: 0.9744\n",
            "Epoch 4/10\n",
            "1875/1875 [==============================] - 4s 2ms/step - loss: 0.0124 - accuracy: 0.9960 - val_loss: 0.1028 - val_accuracy: 0.9778\n",
            "Epoch 5/10\n",
            "1875/1875 [==============================] - 4s 2ms/step - loss: 0.0130 - accuracy: 0.9959 - val_loss: 0.1116 - val_accuracy: 0.9757\n",
            "Epoch 6/10\n",
            "1875/1875 [==============================] - 4s 2ms/step - loss: 0.0097 - accuracy: 0.9966 - val_loss: 0.1134 - val_accuracy: 0.9760\n",
            "Epoch 7/10\n",
            "1875/1875 [==============================] - 4s 2ms/step - loss: 0.0116 - accuracy: 0.9964 - val_loss: 0.1411 - val_accuracy: 0.9725\n",
            "Epoch 8/10\n",
            "1875/1875 [==============================] - 4s 2ms/step - loss: 0.0094 - accuracy: 0.9969 - val_loss: 0.1148 - val_accuracy: 0.9780\n",
            "Epoch 9/10\n",
            "1875/1875 [==============================] - 4s 2ms/step - loss: 0.0098 - accuracy: 0.9970 - val_loss: 0.1303 - val_accuracy: 0.9763\n",
            "Epoch 10/10\n",
            "1875/1875 [==============================] - 4s 2ms/step - loss: 0.0092 - accuracy: 0.9971 - val_loss: 0.1343 - val_accuracy: 0.9752\n",
            "313/313 [==============================] - 0s 1ms/step - loss: 0.1343 - accuracy: 0.9752\n"
          ]
        },
        {
          "output_type": "execute_result",
          "data": {
            "text/plain": [
              "[0.13433837890625, 0.9751999974250793]"
            ]
          },
          "metadata": {},
          "execution_count": 19
        }
      ]
    },
    {
      "cell_type": "code",
      "metadata": {
        "id": "h7dWIB2JJpKR"
      },
      "source": [
        ""
      ],
      "execution_count": null,
      "outputs": []
    }
  ]
}