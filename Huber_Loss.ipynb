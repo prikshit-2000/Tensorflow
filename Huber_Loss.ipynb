{
  "nbformat": 4,
  "nbformat_minor": 0,
  "metadata": {
    "colab": {
      "name": "Huber Loss.ipynb",
      "provenance": [],
      "authorship_tag": "ABX9TyPE4tABcP75YkY8YxBqliRh",
      "include_colab_link": true
    },
    "kernelspec": {
      "name": "python3",
      "display_name": "Python 3"
    },
    "language_info": {
      "name": "python"
    }
  },
  "cells": [
    {
      "cell_type": "markdown",
      "metadata": {
        "id": "view-in-github",
        "colab_type": "text"
      },
      "source": [
        "<a href=\"https://colab.research.google.com/github/prikshit-2000/Tensorflow/blob/main/Huber_Loss.ipynb\" target=\"_parent\"><img src=\"https://colab.research.google.com/assets/colab-badge.svg\" alt=\"Open In Colab\"/></a>"
      ]
    },
    {
      "cell_type": "code",
      "metadata": {
        "id": "9PoQUxymsmlR"
      },
      "source": [
        "import tensorflow as tf\n",
        "from tensorflow.keras import Sequential\n",
        "from tensorflow.keras.layers import Dense\n",
        "from tensorflow.keras import optimizers\n",
        "import numpy as np"
      ],
      "execution_count": 15,
      "outputs": []
    },
    {
      "cell_type": "code",
      "metadata": {
        "id": "NdeAhMr2s7eI"
      },
      "source": [
        "xs = np.array([-1.0,0.0,1.0,2.0,3.0,4.0],dtype = 'float')\n",
        "ys = np.array([-3.0,-1.0,1.0,3.0,5.0,7.0],dtype = 'float')"
      ],
      "execution_count": 16,
      "outputs": []
    },
    {
      "cell_type": "code",
      "metadata": {
        "colab": {
          "base_uri": "https://localhost:8080/"
        },
        "id": "gPno7KK6tRJJ",
        "outputId": "5102936f-1ac5-4024-88f8-ee97c90e33a8"
      },
      "source": [
        "model = Sequential([\n",
        "                   Dense(1,input_shape = [1])\n",
        "                   ])\n",
        "model.compile(optimizer = 'sgd' , loss = 'mean_squared_error')\n",
        "model.fit(xs,ys , epochs = 500 , verbose = 0)\n",
        "print(model.predict([10.0]))"
      ],
      "execution_count": 17,
      "outputs": [
        {
          "output_type": "stream",
          "name": "stdout",
          "text": [
            "[[18.979172]]\n"
          ]
        }
      ]
    },
    {
      "cell_type": "code",
      "metadata": {
        "id": "GWRbFTB7tzyx"
      },
      "source": [
        "def huber_loss(y_true , y_pred):\n",
        "    threshold = 1\n",
        "    error = (y_true - y_pred)\n",
        "    is_small_error = tf.abs(error) <= threshold\n",
        "    squared_error = error**2/2\n",
        "    big_error_loss = threshold * (tf.abs(error) - (0.5*threshold))\n",
        "    return tf.where(is_small_error , squared_error , big_error_loss)\n",
        "    "
      ],
      "execution_count": 18,
      "outputs": []
    },
    {
      "cell_type": "code",
      "metadata": {
        "colab": {
          "base_uri": "https://localhost:8080/"
        },
        "id": "70xocEqKu2QF",
        "outputId": "ecdfb377-aec8-483e-d78c-34d0e6242000"
      },
      "source": [
        "model = Sequential([\n",
        "                   Dense(1,input_shape = [1])\n",
        "                   ])\n",
        "model.compile(optimizer = 'sgd' , loss = huber_loss)\n",
        "model.fit(xs,ys , epochs = 500 , verbose = 0)\n",
        "print(model.predict([10.0]))"
      ],
      "execution_count": 19,
      "outputs": [
        {
          "output_type": "stream",
          "name": "stdout",
          "text": [
            "[[18.735912]]\n"
          ]
        }
      ]
    },
    {
      "cell_type": "code",
      "metadata": {
        "id": "RB8pmmt4u8vw"
      },
      "source": [
        "def huber_loss_with_threshold(threshold):\n",
        "    def huber_loss(y_true,y_pred):\n",
        "        error = y_true - y_pred\n",
        "        is_small_error = tf.abs(error) <= threshold\n",
        "        small_error = error**2/2\n",
        "        big_error = threshold * (tf.abs(error) - (0.5*threshold))\n",
        "        return tf.where(is_small_error , small_error , big_error)\n",
        "    return huber_loss"
      ],
      "execution_count": 20,
      "outputs": []
    },
    {
      "cell_type": "code",
      "metadata": {
        "colab": {
          "base_uri": "https://localhost:8080/"
        },
        "id": "LR6RmS4Lz27_",
        "outputId": "0c2237ea-379c-4d40-c7f8-fd57306f28cb"
      },
      "source": [
        "model = Sequential([\n",
        "                   Dense(1,input_shape = [1])\n",
        "                   ])\n",
        "model.compile(optimizer = 'sgd' , loss = huber_loss_with_threshold(threshold = 1.5))\n",
        "model.fit(xs,ys , epochs = 500 , verbose = 0)\n",
        "print(model.predict([10.0]))"
      ],
      "execution_count": 24,
      "outputs": [
        {
          "output_type": "stream",
          "name": "stdout",
          "text": [
            "[[18.82571]]\n"
          ]
        }
      ]
    },
    {
      "cell_type": "code",
      "metadata": {
        "id": "_1ebAIHBzPkK"
      },
      "source": [
        "from tensorflow.keras.losses import Loss\n",
        "\n",
        "class MyHuberLoss(Loss):\n",
        "\n",
        "    threshold = 1\n",
        "    def __init__(self,threshold):\n",
        "        super().__init__()\n",
        "        self.threshold = threshold\n",
        "\n",
        "    def call(self,y_true,y_pred):\n",
        "        error = y_true - y_pred\n",
        "        is_small_error = tf.abs(error) <= self.threshold\n",
        "        small_error = error**2/2\n",
        "        big_error = self.threshold * (tf.abs(error) - (0.5*self.threshold))\n",
        "        return tf.where(is_small_error , small_error , big_error)\n"
      ],
      "execution_count": 28,
      "outputs": []
    },
    {
      "cell_type": "code",
      "metadata": {
        "colab": {
          "base_uri": "https://localhost:8080/"
        },
        "id": "HzjCdKvmzwIV",
        "outputId": "9100d305-01ff-4fbc-98c0-22ef8ee120ba"
      },
      "source": [
        "model = Sequential([\n",
        "                   Dense(1,input_shape = [1])\n",
        "                   ])\n",
        "model.compile(optimizer = 'sgd' , loss = MyHuberLoss(threshold = 1.4))\n",
        "model.fit(xs,ys , epochs = 500 , verbose = 0)\n",
        "print(model.predict([10.0]))"
      ],
      "execution_count": 29,
      "outputs": [
        {
          "output_type": "stream",
          "name": "stdout",
          "text": [
            "[[18.760662]]\n"
          ]
        }
      ]
    },
    {
      "cell_type": "code",
      "metadata": {
        "id": "guCe7eUx0YQ9"
      },
      "source": [
        ""
      ],
      "execution_count": null,
      "outputs": []
    }
  ]
}