{
  "nbformat": 4,
  "nbformat_minor": 0,
  "metadata": {
    "colab": {
      "name": "MNIST Object Localization.ipynb",
      "provenance": [],
      "authorship_tag": "ABX9TyMXwu7DXrdxDtJ8gviCThqq",
      "include_colab_link": true
    },
    "kernelspec": {
      "name": "python3",
      "display_name": "Python 3"
    },
    "language_info": {
      "name": "python"
    },
    "accelerator": "GPU"
  },
  "cells": [
    {
      "cell_type": "markdown",
      "metadata": {
        "id": "view-in-github",
        "colab_type": "text"
      },
      "source": [
        "<a href=\"https://colab.research.google.com/github/prikshit-2000/Tensorflow/blob/main/MNIST_Object_Localization.ipynb\" target=\"_parent\"><img src=\"https://colab.research.google.com/assets/colab-badge.svg\" alt=\"Open In Colab\"/></a>"
      ]
    },
    {
      "cell_type": "code",
      "metadata": {
        "id": "J_mw2FE2fVCF"
      },
      "source": [
        "import numpy as np\n",
        "import pandas as pd\n",
        "import matplotlib.pyplot as plt\n",
        "import PIL.ImageDraw,PIL.ImageFont,PIL.Image\n",
        "import tensorflow as tf\n",
        "import tensorflow_datasets as tfds\n",
        "import os,re,time,json\n",
        "import random"
      ],
      "execution_count": 34,
      "outputs": []
    },
    {
      "cell_type": "code",
      "metadata": {
        "id": "gtmujHl2fqda"
      },
      "source": [
        "im_width = 75\n",
        "im_height  = 75\n",
        "use_normalized_coordinates = True"
      ],
      "execution_count": 35,
      "outputs": []
    },
    {
      "cell_type": "code",
      "metadata": {
        "id": "qcR5EPhjgN3u"
      },
      "source": [
        "def draw_bounding_box_on_image(image, ymin,xmin,ymax,xmax , color = 'red' , thickness = 1 , display_str = None , use_normalized_coordinates = True):\n",
        "    draw = PIL.ImageDraw.Draw(image)\n",
        "    im_width,im_height = image.size\n",
        "    if use_normalized_coordinates:\n",
        "        (left,right,top,bottom) =(xmin*im_width , xmax*im_width , ymin*im_height , ymax*im_height) \n",
        "    else:\n",
        "        (left,right,top,bottom) =(xmin , xmax, ymin, ymax)\n",
        "\n",
        "    draw.line([(left,top) , (right , top) , (right,bottom) , (left , bottom) , (left,top)],width= thickness , fill = color)\n"
      ],
      "execution_count": 36,
      "outputs": []
    },
    {
      "cell_type": "code",
      "metadata": {
        "id": "tnRQglNVi0mF"
      },
      "source": [
        "def draw_bounding_boxes_on_image(image , boxes , color = [] , display_str_list = () , thickness = 1 ):\n",
        "    boxes_shape = boxes.shape\n",
        "\n",
        "    if not boxes_shape:\n",
        "        return\n",
        "    \n",
        "    if len(boxes_shape) !=2 or boxes_shape[1]!=4:\n",
        "        raise ValueError(\"Input must be of form [N,4]\")\n",
        "\n",
        "    for i in range(boxes.shape[0]):\n",
        "        draw_bounding_box_on_image(image , boxes[i,1] , boxes[i,0] , boxes [i,3] , boxes[i,2] , color = color[i] , thickness = 1 , display_str=display_str_list[i])\n",
        "\n",
        "\n"
      ],
      "execution_count": 37,
      "outputs": []
    },
    {
      "cell_type": "code",
      "metadata": {
        "id": "n79ORvEHm2pM"
      },
      "source": [
        "def draw_bounding_boxes_on_image_array(image,boxes,color = [],thickness = 1 , display_str_list = ()):\n",
        "    image_pil = PIL.Image.fromarray(image)\n",
        "    rgbimg = PIL.Image.new(\"RGBA\" , image_pil.size)\n",
        "    rgbimg.paste(image_pil)\n",
        "    draw_bounding_boxes_on_image(rgbimg , boxes , color , display_str_list ,thickness)\n",
        "    return np.array(rgbimg)"
      ],
      "execution_count": 38,
      "outputs": []
    },
    {
      "cell_type": "code",
      "metadata": {
        "id": "rg63pWlKoA2C"
      },
      "source": [
        "plt.rc('image' , cmap = 'gray')\n",
        "plt.rc('grid',linewidth = 0)\n",
        "plt.rc('xtick' , top = False ,bottom = False , labelsize = 'large')\n",
        "plt.rc('ytick' , left = False , right = False , labelsize = 'large')\n",
        "plt.rc('axes' , facecolor = 'F8F8F8' , titlesize = 'large' , edgecolor = 'white')\n",
        "plt.rc('text' , color = 'a8151a')\n",
        "plt.rc('figure', facecolor=  'F0F0F0')\n",
        "MATPLOTLIB_FONT_DIR = os.path.join(os.path.dirname(plt.__file__), \"mpl-data/fonts/ttf\")\n",
        "\n",
        "def dataset_numpy_to_util(training_dataset,validation_dataset,N):\n",
        "    batch_train_ds  = training_dataset.unbatch().batch(N)\n",
        "\n",
        "    if tf.executing_eagerly():\n",
        "        for validation_digits , (validation_labels,validation_bboxes ) in validation_dataset:\n",
        "            validation_digits = validation_digits.numpy()\n",
        "            validation_labels = validation_labels.numpy()\n",
        "            validation_bboxes = validation_bboxes.numpy()\n",
        "            break\n",
        "        for training_digits , (training_labels, training_bboxes) in batch_train_ds:\n",
        "            training_digits = training_digits.numpy()\n",
        "            training_labels = training_labels.numpy()\n",
        "            training_bboxes = training_bboxes.numpy()\n",
        "            break\n",
        "\n",
        "    validation_labels  = np.argmax(validation_labels,axis = 1)\n",
        "    training_labels = np.argmax(training_labels,axis = 1)\n",
        "\n",
        "    return (training_digits , training_labels,training_bboxes , validation_digits , validation_labels, validation_bboxes)\n"
      ],
      "execution_count": 39,
      "outputs": []
    },
    {
      "cell_type": "code",
      "metadata": {
        "id": "OQRkFoMquRJa"
      },
      "source": [
        "def create_digits_from_local_fonts(n):\n",
        "    font_labels = []\n",
        "    img = PIL.Image.new('LA' , (75*n,75) , color = (0,255))\n",
        "    font1 = PIL.ImageFont.truetype(os.path.join(MATPLOTLIB_FONT_DIR, 'DejaVuSansMono-Oblique.ttf'), 25)\n",
        "    font2 = PIL.ImageFont.truetype(os.path.join(MATPLOTLIB_FONT_DIR, 'STIXGeneral.ttf'), 25)\n",
        "    d = PIL.ImageDraw.Draw(img)\n",
        "    for i in range(n):\n",
        "        font_labels.append(i%10)\n",
        "        d.text((7+i*75 , 0 if i<10 else 4 ) , str((i%10) ,fill = (255,255) , font = font1 if i<10 else font2 ))\n",
        "    font_digits = np.array(img.get_data() , np.float32 )[:,0] / 255.0\n",
        "    font_digits = np.reshape(np.stack(np.split(np.reshape(font_digits , [75 , 75*n]) ,n,axis = 1) ,axis = 0 ) , [n,75*75])\n",
        "    return font_digits,font_labels\n",
        "\n"
      ],
      "execution_count": 40,
      "outputs": []
    },
    {
      "cell_type": "code",
      "metadata": {
        "id": "e9hV1GNzvKgk"
      },
      "source": [
        "def display_digits_with_boxes(digits,predictions , labels, pred_bboxes , bboxes , iou , title):\n",
        "    n = 10\n",
        "    indexes  = np.random.choice(len(predictions) , size = n)\n",
        "    n_digits = digits[indexes]\n",
        "    n_predictions = predictions[indexes]\n",
        "    n_labels = labels[indexes]\n",
        "\n",
        "    n_iou = []\n",
        "    if len(iou)  >0:\n",
        "        n_iou = iou[indexes]\n",
        "\n",
        "    if (len(pred_bboxes) > 0):\n",
        "        n_pred_boxes = pred_bboxes[indexes,:]\n",
        "    \n",
        "    if (len(bboxes) > 0):\n",
        "        n_bboxes  = bboxes[indexes , :]\n",
        "\n",
        "    n_digits = n_digits*255.0\n",
        "    n_digits = n_digits.reshape(n,75,75)\n",
        "    fig = plt.figure(figsize = (20,4))\n",
        "    plt.title(title)\n",
        "    plt.yticks([])\n",
        "    plt.xticks([])\n",
        "\n",
        "    for i in range(10):\n",
        "        ax = fig.add_subplot(1,10,i+1)\n",
        "\n",
        "        bboxes_to_plot = []\n",
        "\n",
        "        if(len(pred_bboxes) > i):\n",
        "            bboxes_to_plot.append(n_pred_boxes[i])\n",
        "\n",
        "        if (len(bboxes) > i):\n",
        "            bboxes_to_plot.append(n_bboxes[i])\n",
        "\n",
        "        img_to_draw = draw_bounding_boxes_on_image_array(image  = n_digits[i] , boxes = np.asarray(bboxes_to_plot) , color = ['red','green'] ,display_str_list=['true','pred'] )\n",
        "        plt.xlabel(n_predictions[i])\n",
        "        plt.xticks([])\n",
        "        plt.yticks([])\n",
        "\n",
        "        if n_predictions[i] != n_labels[i]:\n",
        "            ax.xaxis.label.set_color('red')\n",
        "\n",
        "        plt.imshow(img_to_draw)\n",
        "\n",
        "        if len(iou) >i:\n",
        "            color = \"black\"\n",
        "\n",
        "            if (n_iou[i][0] < iou_threshold):\n",
        "                color = 'red'\n",
        "            ax.text(0.2,-0.3,\"iou: %s\" %(n_iou[i][0]),color = color ,transform=ax.transAxes)\n",
        " \n",
        "\n",
        " \n",
        "\n",
        "\n",
        "\n",
        "    \n"
      ],
      "execution_count": 83,
      "outputs": []
    },
    {
      "cell_type": "code",
      "metadata": {
        "id": "BYZIDEcg1DUn"
      },
      "source": [
        "def plot_metrics(metric_name, title, ylim=5):\n",
        "     plt.title(title)\n",
        "     plt.ylim(0,ylim)\n",
        "     plt.plot(history.history[metric_name],color='blue',label=metric_name)\n",
        "     plt.plot(history.history['val_' + metric_name],color='green',label='val_' + metric_name)\n"
      ],
      "execution_count": 78,
      "outputs": []
    },
    {
      "cell_type": "code",
      "metadata": {
        "colab": {
          "base_uri": "https://localhost:8080/"
        },
        "id": "UYZRqCCo1kyy",
        "outputId": "cfa5755e-7868-4f8d-f5d6-485c0326425b"
      },
      "source": [
        "try:\n",
        "    tpu = tf.distribute.cluster_resolver.TPUClusterResolver()\n",
        "except ValueError:\n",
        "    tpu = None\n",
        "    gpus = tf.config.experimental.list_logical_devices(\"GPU\")\n",
        "\n",
        "if tpu:\n",
        "    tf.config.experimental_connect_to_cluster(tpu)\n",
        "    tf.tpu.experimental.initialize_tpu_system(tpu)\n",
        "    strategy = tf.distribute.experimental.TPUStrategy(tpu)\n",
        "\n",
        "    print('Running on TPU' , tpu.cluster_spec().as_dict()['worker'])\n",
        "\n",
        "elif len(gpus) > 1:\n",
        "    strategy = tf.distribute.MirroredStrategy([gpu.name for gpu in gpus])\n",
        "    print('Running on multiple GPUs ',[gpu.name for gpu in gpus])\n",
        "\n",
        "elif len(gpus) ==1:\n",
        "    strategy = tf.distribute.get_strategy()\n",
        "    print('Running on single GPU' , gpus[0].name)\n",
        "\n",
        "else:\n",
        "    strategy = tf.distribute.get_strategy()\n",
        "    print('Running on CPU')\n",
        "print('Number of accelerators : ' , strategy.num_replicas_in_sync)"
      ],
      "execution_count": 79,
      "outputs": [
        {
          "output_type": "stream",
          "name": "stdout",
          "text": [
            "Running on single GPU /device:GPU:0\n",
            "Number of accelerators :  1\n"
          ]
        }
      ]
    },
    {
      "cell_type": "code",
      "metadata": {
        "id": "9o8Q7Dz02-7i"
      },
      "source": [
        "BATCH_SIZE  = 64*strategy.num_replicas_in_sync"
      ],
      "execution_count": 80,
      "outputs": []
    },
    {
      "cell_type": "code",
      "metadata": {
        "id": "cFxJcMkf3D8q"
      },
      "source": [
        "def read_image_tfds(image,label):\n",
        "    xmin = tf.random.uniform(() , 0,48,dtype = tf.int32)\n",
        "    ymin = tf.random.uniform(()  , 0, 48,dtype = tf.int32)\n",
        "    image = tf.reshape(image , (28,28,1))\n",
        "    image = tf.image.pad_to_bounding_box(image,ymin,xmin,75,75)\n",
        "    image = tf.cast(image , tf.float32)/255.0\n",
        "    xmin = tf.cast(xmin , tf.float32)\n",
        "    ymin = tf.cast(ymin , tf.float32)\n",
        "\n",
        "    xmax = (xmin+28) /75\n",
        "    ymax = (ymin +28 ) / 75\n",
        "    xmin = xmin / 75\n",
        "    ymin = ymin /75\n",
        "    return image , (tf.one_hot(label , 10),[xmin,ymin,xmax,ymax])\n",
        "\n",
        "    "
      ],
      "execution_count": 81,
      "outputs": []
    },
    {
      "cell_type": "code",
      "metadata": {
        "id": "GFhnSwr54Sb0"
      },
      "source": [
        "def get_training_dataset():\n",
        "    with strategy.scope():\n",
        "        dataset = tfds.load('mnist' , split = 'train' , as_supervised= True , try_gcs = True)\n",
        "        dataset = dataset.map(read_image_tfds , num_parallel_calls = 16)\n",
        "        dataset = dataset.shuffle(5000,reshuffle_each_iteration = True)\n",
        "        dataset = dataset.repeat()\n",
        "        dataset = dataset.batch(BATCH_SIZE , drop_remainder = True)\n",
        "        dataset = dataset.prefetch(-1)\n",
        "    return dataset\n",
        "\n",
        "def get_validation_dataset():\n",
        "    \n",
        "    dataset = tfds.load('mnist' , split = 'test' , as_supervised= True , try_gcs = True)\n",
        "    dataset = dataset.map(read_image_tfds , num_parallel_calls = 16)\n",
        "    \n",
        "    \n",
        "    dataset = dataset.batch(10000 , drop_remainder = True)\n",
        "    dataset = dataset.repeat()\n",
        "    return dataset\n",
        "with strategy.scope():\n",
        "    training_dataset = get_training_dataset()\n",
        "    validation_dataset = get_validation_dataset()\n",
        "        "
      ],
      "execution_count": 46,
      "outputs": []
    },
    {
      "cell_type": "code",
      "metadata": {
        "colab": {
          "base_uri": "https://localhost:8080/",
          "height": 511
        },
        "id": "8BBR1L7i5mYR",
        "outputId": "3f8a73f5-2fd8-42c7-91ea-87dd2a8f8b40"
      },
      "source": [
        "(training_digits , training_labels , training_bboxes , validation_digits , validation_labels, validation_bboxes) = dataset_numpy_to_util(training_dataset,validation_dataset , 10)\n",
        "display_digits_with_boxes(training_digits , training_labels , training_labels ,np.array([]) , training_bboxes , np.array([]) , 'training digits and their labels' )\n",
        "display_digits_with_boxes(validation_digits , validation_labels , validation_labels ,np.array([]) , validation_bboxes , np.array([]) , 'validation digits and their labels' )\n",
        "\n"
      ],
      "execution_count": 47,
      "outputs": [
        {
          "output_type": "display_data",
          "data": {
            "image/png": "[encoded data removed]",
            "text/plain": [
              "<Figure size 1440x288 with 11 Axes>"
            ]
          },
          "metadata": {}
        },
        {
          "output_type": "display_data",
          "data": {
            "image/png": "[encoded data removed]",
            "text/plain": [
              "<Figure size 1440x288 with 11 Axes>"
            ]
          },
          "metadata": {}
        }
      ]
    },
    {
      "cell_type": "code",
      "metadata": {
        "id": "cII76neK6yny"
      },
      "source": [
        "def feature_extractor(inputs):\n",
        "    x = tf.keras.layers.Conv2D(16 , activation=  'relu' , kernel_size = 3, input_shape = (75,75,1))(inputs)\n",
        "    x = tf.keras.layers.MaxPooling2D((2,2))(x)\n",
        "\n",
        "    x = tf.keras.layers.Conv2D(32,kernel_size = 3, activation=  'relu')(x)\n",
        "    x= tf.keras.layers.MaxPooling2D((2,2))(x)\n",
        "\n",
        "    x = tf.keras.layers.Conv2D(64,activation = 'relu' , kernel_size = 3)(x)\n",
        "    x = tf.keras.layers.AveragePooling2D((2,2))(x)\n",
        "\n",
        "    return x\n",
        "\n",
        "\n",
        "def dense_layers(inputs):\n",
        "    x = tf.keras.layers.Flatten()(inputs)\n",
        "    x = tf.keras.layers.Dense(128,activation = 'relu')(x)\n",
        "    return x\n",
        "\n",
        "def classifier(inputs):\n",
        "    classification_output  = tf.keras.layers.Dense(10,activation = 'softmax',name='classification')(inputs)\n",
        "    return classification_output\n",
        "\n",
        "def bounding_box_regression(inputs):\n",
        "    bounding_box_regression_output = tf.keras.layers.Dense(units= '4',name = 'bounding_box')(inputs)\n",
        "    return bounding_box_regression_output\n"
      ],
      "execution_count": 52,
      "outputs": []
    },
    {
      "cell_type": "code",
      "metadata": {
        "id": "dMBiJTd03Iob"
      },
      "source": [
        "def final_model(inputs):\n",
        "    feature_cnn  = feature_extractor(inputs)\n",
        "    dense_output = dense_layers(feature_cnn)\n",
        "\n",
        "    classification_output = classifier(dense_output)\n",
        "    bounding_box_output = bounding_box_regression(dense_output)\n",
        "\n",
        "    model =  tf.keras.Model(inputs = inputs , outputs = [classification_output , bounding_box_output])\n",
        "    return model\n",
        "\n",
        "def define_and_compile_model(inputs):\n",
        "    model = final_model(inputs)\n",
        "\n",
        "    model.compile(optimizer = 'adam' , loss = {'classification' : 'categorical_crossentropy',\n",
        "                                               'bounding_box' : 'mse'},\n",
        "                  metrics = {'classification' : 'accuracy',\n",
        "                             'bounding_box' : 'mse'})\n",
        "    \n",
        "    return model\n",
        "    \n"
      ],
      "execution_count": 56,
      "outputs": []
    },
    {
      "cell_type": "code",
      "metadata": {
        "colab": {
          "base_uri": "https://localhost:8080/"
        },
        "id": "cPj92uoP4bjv",
        "outputId": "1d15e4cf-2a5a-49c5-9b96-022d15029a7f"
      },
      "source": [
        "with strategy.scope():\n",
        "    inputs = tf.keras.layers.Input(shape = (75,75,1))\n",
        "    model = define_and_compile_model(inputs)\n",
        "\n",
        "model.summary()"
      ],
      "execution_count": 57,
      "outputs": [
        {
          "output_type": "stream",
          "name": "stdout",
          "text": [
            "Model: \"model_3\"\n",
            "__________________________________________________________________________________________________\n",
            "Layer (type)                    Output Shape         Param #     Connected to                     \n",
            "==================================================================================================\n",
            "input_7 (InputLayer)            [(None, 75, 75, 1)]  0                                            \n",
            "__________________________________________________________________________________________________\n",
            "conv2d_17 (Conv2D)              (None, 73, 73, 16)   160         input_7[0][0]                    \n",
            "__________________________________________________________________________________________________\n",
            "max_pooling2d_12 (MaxPooling2D) (None, 36, 36, 16)   0           conv2d_17[0][0]                  \n",
            "__________________________________________________________________________________________________\n",
            "conv2d_18 (Conv2D)              (None, 34, 34, 32)   4640        max_pooling2d_12[0][0]           \n",
            "__________________________________________________________________________________________________\n",
            "max_pooling2d_13 (MaxPooling2D) (None, 17, 17, 32)   0           conv2d_18[0][0]                  \n",
            "__________________________________________________________________________________________________\n",
            "conv2d_19 (Conv2D)              (None, 15, 15, 64)   18496       max_pooling2d_13[0][0]           \n",
            "__________________________________________________________________________________________________\n",
            "average_pooling2d_5 (AveragePoo (None, 7, 7, 64)     0           conv2d_19[0][0]                  \n",
            "__________________________________________________________________________________________________\n",
            "flatten_5 (Flatten)             (None, 3136)         0           average_pooling2d_5[0][0]        \n",
            "__________________________________________________________________________________________________\n",
            "dense_9 (Dense)                 (None, 128)          401536      flatten_5[0][0]                  \n",
            "__________________________________________________________________________________________________\n",
            "classification (Dense)          (None, 10)           1290        dense_9[0][0]                    \n",
            "__________________________________________________________________________________________________\n",
            "bounding_box (Dense)            (None, 4)            516         dense_9[0][0]                    \n",
            "==================================================================================================\n",
            "Total params: 426,638\n",
            "Trainable params: 426,638\n",
            "Non-trainable params: 0\n",
            "__________________________________________________________________________________________________\n"
          ]
        }
      ]
    },
    {
      "cell_type": "code",
      "metadata": {
        "colab": {
          "base_uri": "https://localhost:8080/"
        },
        "id": "RZwZGwEJ4u4R",
        "outputId": "a8faf327-9264-4c28-c923-b546455dbb7e"
      },
      "source": [
        "EPOCHS = 10\n",
        "steps_per_epoch = 6000//BATCH_SIZE\n",
        "validation_steps = 1\n",
        "\n",
        "history = model.fit(training_dataset , steps_per_epoch=steps_per_epoch , validation_data=validation_dataset , validation_steps=validation_steps,epochs = EPOCHS)\n",
        "loss,classification_loss , bounding_box_loss , classification_accuracy , bounding_box_mse = model.evaluate(validation_dataset,steps = 1)\n",
        "\n",
        "print(\"Validation Accuracy : \",classification_accuracy)"
      ],
      "execution_count": 61,
      "outputs": [
        {
          "output_type": "stream",
          "name": "stdout",
          "text": [
            "Epoch 1/10\n",
            "93/93 [==============================] - 7s 58ms/step - loss: 1.0807 - classification_loss: 1.0577 - bounding_box_loss: 0.0230 - classification_accuracy: 0.6275 - bounding_box_mse: 0.0230 - val_loss: 0.8566 - val_classification_loss: 0.8365 - val_bounding_box_loss: 0.0202 - val_classification_accuracy: 0.7098 - val_bounding_box_mse: 0.0202\n",
            "Epoch 2/10\n",
            "93/93 [==============================] - 5s 56ms/step - loss: 0.7639 - classification_loss: 0.7424 - bounding_box_loss: 0.0215 - classification_accuracy: 0.7653 - bounding_box_mse: 0.0215 - val_loss: 0.6041 - val_classification_loss: 0.5846 - val_bounding_box_loss: 0.0194 - val_classification_accuracy: 0.8124 - val_bounding_box_mse: 0.0194\n",
            "Epoch 3/10\n",
            "93/93 [==============================] - 5s 54ms/step - loss: 0.5386 - classification_loss: 0.5192 - bounding_box_loss: 0.0194 - classification_accuracy: 0.8372 - bounding_box_mse: 0.0194 - val_loss: 0.5124 - val_classification_loss: 0.4919 - val_bounding_box_loss: 0.0205 - val_classification_accuracy: 0.8450 - val_bounding_box_mse: 0.0205\n",
            "Epoch 4/10\n",
            "93/93 [==============================] - 5s 50ms/step - loss: 0.4391 - classification_loss: 0.4220 - bounding_box_loss: 0.0171 - classification_accuracy: 0.8644 - bounding_box_mse: 0.0171 - val_loss: 0.3664 - val_classification_loss: 0.3521 - val_bounding_box_loss: 0.0143 - val_classification_accuracy: 0.8922 - val_bounding_box_mse: 0.0143\n",
            "Epoch 5/10\n",
            "93/93 [==============================] - 4s 47ms/step - loss: 0.3763 - classification_loss: 0.3617 - bounding_box_loss: 0.0146 - classification_accuracy: 0.8858 - bounding_box_mse: 0.0146 - val_loss: 0.3518 - val_classification_loss: 0.3364 - val_bounding_box_loss: 0.0154 - val_classification_accuracy: 0.8942 - val_bounding_box_mse: 0.0154\n",
            "Epoch 6/10\n",
            "93/93 [==============================] - 5s 49ms/step - loss: 0.3396 - classification_loss: 0.3267 - bounding_box_loss: 0.0129 - classification_accuracy: 0.9026 - bounding_box_mse: 0.0129 - val_loss: 0.3066 - val_classification_loss: 0.2954 - val_bounding_box_loss: 0.0112 - val_classification_accuracy: 0.9074 - val_bounding_box_mse: 0.0112\n",
            "Epoch 7/10\n",
            "93/93 [==============================] - 4s 45ms/step - loss: 0.3233 - classification_loss: 0.3114 - bounding_box_loss: 0.0119 - classification_accuracy: 0.9059 - bounding_box_mse: 0.0119 - val_loss: 0.2867 - val_classification_loss: 0.2764 - val_bounding_box_loss: 0.0104 - val_classification_accuracy: 0.9115 - val_bounding_box_mse: 0.0104\n",
            "Epoch 8/10\n",
            "93/93 [==============================] - 5s 50ms/step - loss: 0.3090 - classification_loss: 0.2990 - bounding_box_loss: 0.0100 - classification_accuracy: 0.9056 - bounding_box_mse: 0.0100 - val_loss: 0.2579 - val_classification_loss: 0.2483 - val_bounding_box_loss: 0.0095 - val_classification_accuracy: 0.9216 - val_bounding_box_mse: 0.0095\n",
            "Epoch 9/10\n",
            "93/93 [==============================] - 4s 38ms/step - loss: 0.2861 - classification_loss: 0.2772 - bounding_box_loss: 0.0089 - classification_accuracy: 0.9157 - bounding_box_mse: 0.0089 - val_loss: 0.2391 - val_classification_loss: 0.2297 - val_bounding_box_loss: 0.0094 - val_classification_accuracy: 0.9286 - val_bounding_box_mse: 0.0094\n",
            "Epoch 10/10\n",
            "93/93 [==============================] - 4s 46ms/step - loss: 0.2704 - classification_loss: 0.2614 - bounding_box_loss: 0.0090 - classification_accuracy: 0.9231 - bounding_box_mse: 0.0090 - val_loss: 0.2444 - val_classification_loss: 0.2362 - val_bounding_box_loss: 0.0082 - val_classification_accuracy: 0.9266 - val_bounding_box_mse: 0.0082\n",
            "1/1 [==============================] - 2s 2s/step - loss: 0.2426 - classification_loss: 0.2344 - bounding_box_loss: 0.0082 - classification_accuracy: 0.9268 - bounding_box_mse: 0.0082\n",
            "Validation Accuracy :  0.926800012588501\n"
          ]
        }
      ]
    },
    {
      "cell_type": "code",
      "metadata": {
        "colab": {
          "base_uri": "https://localhost:8080/",
          "height": 284
        },
        "id": "JUr35Q_-7By1",
        "outputId": "b95e9062-338e-4c73-ac51-5904f0305f03"
      },
      "source": [
        "plot_metrics(\"classification_loss\", \"Classification Loss\")\n",
        "# "
      ],
      "execution_count": 66,
      "outputs": [
        {
          "output_type": "display_data",
          "data": {
            "image/png": "[encoded data removed]",
            "text/plain": [
              "<Figure size 432x288 with 1 Axes>"
            ]
          },
          "metadata": {}
        }
      ]
    },
    {
      "cell_type": "code",
      "metadata": {
        "colab": {
          "base_uri": "https://localhost:8080/",
          "height": 284
        },
        "id": "K5toviTs8E-8",
        "outputId": "7f47cf1c-1b24-4f27-97f7-5f80dfceecb0"
      },
      "source": [
        "plot_metrics(\"bounding_box_loss\", \"Bounding Box Loss\")"
      ],
      "execution_count": 67,
      "outputs": [
        {
          "output_type": "display_data",
          "data": {
            "image/png": "[encoded data removed]",
            "text/plain": [
              "<Figure size 432x288 with 1 Axes>"
            ]
          },
          "metadata": {}
        }
      ]
    },
    {
      "cell_type": "code",
      "metadata": {
        "id": "TYY0hbt38JO0"
      },
      "source": [
        "def intersection_over_union(pred_box,true_box):\n",
        "    xmin_pred , ymin_pred , xmax_pred,ymax_pred = np.split(pred_box,4,axis = 1)\n",
        "    xmin_true , ymin_true , xmax_true,ymax_true = np.split(true_box,4,axis = 1) \n",
        "\n",
        "    smoothing_factor = 1e-10\n",
        "\n",
        "    xmin_overlap = np.maximum(xmin_pred,xmin_true)   \n",
        "    xmax_overlap = np.maximum(xmax_pred,xmax_true)   \n",
        "    ymin_overlap = np.maximum(ymin_pred,ymin_true)   \n",
        "    ymax_overlap = np.maximum(ymax_pred,ymax_true) \n",
        "\n",
        "    pred_box_area = (xmax_pred-xmin_pred) * (ymax_pred - ymin_pred)\n",
        "    true_box_area = (xmax_true - xmin_true)  * (ymax_true - ymin_true)\n",
        "\n",
        "    overlap_area = np.maximum((xmax_overlap - xmin_overlap) , 0) * np.maximum((ymax_overlap - ymin_overlap),0)\n",
        "    union_area =  (pred_box_area  + true_box_area) - overlap_area\n",
        "    iou = (overlap_area+smoothing_factor) / (union_area+smoothing_factor)\n",
        "\n",
        "    return iou\n"
      ],
      "execution_count": 74,
      "outputs": []
    },
    {
      "cell_type": "code",
      "metadata": {
        "id": "sN5D9axl7gDx"
      },
      "source": [
        "predictions = model.predict(validation_digits,batch_size = 64)\n",
        "predicted_labels = np.argmax(predictions[0] , axis =1)\n",
        "predicted_bboxes  = predictions[1]\n",
        "\n",
        "iou = intersection_over_union(predicted_bboxes,validation_bboxes)\n",
        "\n",
        "iou_threshold = 0.6"
      ],
      "execution_count": 75,
      "outputs": []
    },
    {
      "cell_type": "code",
      "metadata": {
        "colab": {
          "base_uri": "https://localhost:8080/",
          "height": 298
        },
        "id": "7CSOaHlp-Fd3",
        "outputId": "8cccc5e5-08be-412c-89fd-c2e7aff17a44"
      },
      "source": [
        "print(\"Number of predictions where iou > threshold(%s): %s\" % (iou_threshold, (iou >= iou_threshold).sum()))\n",
        "print(\"Number of predictions where iou < threshold(%s): %s\" % (iou_threshold, (iou < iou_threshold).sum()))\n",
        "\n",
        "\n",
        "display_digits_with_boxes(validation_digits, predicted_labels, validation_labels, predicted_bboxes, validation_bboxes, iou, \"True and Predicted values\")"
      ],
      "execution_count": 84,
      "outputs": [
        {
          "output_type": "stream",
          "name": "stdout",
          "text": [
            "Number of predictions where iou > threshold(0.6): 9613\n",
            "Number of predictions where iou < threshold(0.6): 387\n"
          ]
        },
        {
          "output_type": "display_data",
          "data": {
            "image/png": "[encoded data removed]",
            "text/plain": [
              "<Figure size 1440x288 with 11 Axes>"
            ]
          },
          "metadata": {}
        }
      ]
    },
    {
      "cell_type": "code",
      "metadata": {
        "id": "KlGLdL5S-W0n"
      },
      "source": [
        ""
      ],
      "execution_count": null,
      "outputs": []
    }
  ]
}