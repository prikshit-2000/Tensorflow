{
  "nbformat": 4,
  "nbformat_minor": 0,
  "metadata": {
    "colab": {
      "name": "Resnet 18.ipynb",
      "provenance": [],
      "authorship_tag": "ABX9TyOQj80sVw0XN0OiVcO+e4sx",
      "include_colab_link": true
    },
    "kernelspec": {
      "name": "python3",
      "display_name": "Python 3"
    },
    "language_info": {
      "name": "python"
    }
  },
  "cells": [
    {
      "cell_type": "markdown",
      "metadata": {
        "id": "view-in-github",
        "colab_type": "text"
      },
      "source": [
        "<a href=\"https://colab.research.google.com/github/prikshit-2000/Tensorflow/blob/main/Resnet_18.ipynb\" target=\"_parent\"><img src=\"https://colab.research.google.com/assets/colab-badge.svg\" alt=\"Open In Colab\"/></a>"
      ]
    },
    {
      "cell_type": "code",
      "metadata": {
        "id": "y6yP-mbRfXV5"
      },
      "source": [
        "import tensorflow as tf\n",
        "from tensorflow.keras.layers import Conv2D,Dense,Flatten,Input,Lambda,BatchNormalization,MaxPooling2D,concatenate,Add,GlobalAveragePooling2D\n",
        "from tensorflow.keras.models import Model,Sequential\n",
        "from tensorflow.keras.utils import plot_model\n",
        "from tensorflow.keras.activations import relu\n",
        "import numpy as np\n",
        "import tensorflow_datasets as tfds\n"
      ],
      "execution_count": 42,
      "outputs": []
    },
    {
      "cell_type": "markdown",
      "metadata": {
        "id": "JZe098ikhRfY"
      },
      "source": [
        "![resnet.png](data:image/png;base64,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)"
      ]
    },
    {
      "cell_type": "code",
      "metadata": {
        "id": "FUIuae-Nfrcw"
      },
      "source": [
        "class IdentityResnetBlock(Model):\n",
        "  def __init__(self,filters,kernel_size):\n",
        "\n",
        "    super(IdentityResnetBlock,self).__init__(name='')\n",
        "\n",
        "    self.conv1 = Conv2D(filters,kernel_size,padding = 'same')\n",
        "    self.bn1 = BatchNormalization()\n",
        "\n",
        "    self.conv2 = Conv2D(filters,kernel_size)\n",
        "    self.bn2 = BatchNormalization()\n",
        "\n",
        "\n",
        "    self.act = relu\n",
        "    self.add = Add()\n",
        "\n",
        "  def call(self,inputs):\n",
        "    x = self.conv1(inputs)\n",
        "    x = self.bn1(x)\n",
        "    x = self.act(x)\n",
        "\n",
        "    x = self.conv2(inputs)\n",
        "    x = self.bn2(inputs)\n",
        "\n",
        "    out = self.add([x,inputs])\n",
        "\n",
        "    return self.act(out)\n"
      ],
      "execution_count": 70,
      "outputs": []
    },
    {
      "cell_type": "code",
      "metadata": {
        "id": "NnJiBo9zr3v8"
      },
      "source": [
        "class Resnet(Model):\n",
        "  def __init__(self,num_classes):\n",
        "    super(Resnet,self).__init__()\n",
        "\n",
        "    self.conv1 = Conv2D(64,7,padding  = 'same')\n",
        "    self.bn1 = BatchNormalization()\n",
        "    self.act = relu\n",
        "    self.max_pool = MaxPooling2D((3,3))\n",
        "\n",
        "    self.idb1 = IdentityResnetBlock(64,3)\n",
        "    self.idb2 = IdentityResnetBlock(64,3)\n",
        "\n",
        "    self.global_pool = GlobalAveragePooling2D()\n",
        "    self.classifier  = Dense(num_classes , activation = 'softmax')\n",
        "\n",
        "  def call(self,input_tensor):\n",
        "\n",
        "    x = self.conv1(input_tensor)\n",
        "    x =  self.bn1(x)\n",
        "    x = self.act(x)\n",
        "    x = self.max_pool(x)\n",
        "\n",
        "    x = self.idb1(x)\n",
        "    x = self.idb2(x)\n",
        "    x = self.global_pool(x)\n",
        "    x = self.classifier(x)\n",
        "\n",
        "    return x"
      ],
      "execution_count": 77,
      "outputs": []
    },
    {
      "cell_type": "code",
      "metadata": {
        "id": "q_C1bM4euIUH"
      },
      "source": [
        "model = Resnet(10)"
      ],
      "execution_count": 78,
      "outputs": []
    },
    {
      "cell_type": "code",
      "metadata": {
        "id": "CJxotK6tuK_K"
      },
      "source": [
        "model.compile(optimizer = 'adam', loss = 'sparse_categorical_crossentropy',metrics = ['accuracy'])"
      ],
      "execution_count": 79,
      "outputs": []
    },
    {
      "cell_type": "code",
      "metadata": {
        "id": "x5jq0p7rvZcf"
      },
      "source": [
        "def preprocess(features):\n",
        "  return tf.cast(features['image'],tf.float32)/255.0,features['label']"
      ],
      "execution_count": 80,
      "outputs": []
    },
    {
      "cell_type": "code",
      "metadata": {
        "id": "SEuoAEgRuZVW"
      },
      "source": [
        "dataset = tfds.load('mnist' , split = tfds.Split.TRAIN)\n",
        "dataset = dataset.map(preprocess).batch(32)"
      ],
      "execution_count": 81,
      "outputs": []
    },
    {
      "cell_type": "code",
      "metadata": {
        "colab": {
          "base_uri": "https://localhost:8080/"
        },
        "id": "_K8IgmJGv7E9",
        "outputId": "f8233681-6dc3-4727-e837-fa9f3b2422a6"
      },
      "source": [
        "model.fit(dataset,epochs = 1)"
      ],
      "execution_count": 82,
      "outputs": [
        {
          "output_type": "stream",
          "name": "stdout",
          "text": [
            "WARNING:tensorflow:Gradients do not exist for variables ['resnet_9/identity_resnet_block_5/conv2d_15/kernel:0', 'resnet_9/identity_resnet_block_5/conv2d_15/bias:0', 'resnet_9/identity_resnet_block_5/batch_normalization_15/gamma:0', 'resnet_9/identity_resnet_block_5/batch_normalization_15/beta:0', 'resnet_9/identity_resnet_block_5/conv2d_16/kernel:0', 'resnet_9/identity_resnet_block_5/conv2d_16/bias:0', 'resnet_9/identity_resnet_block_6/conv2d_17/kernel:0', 'resnet_9/identity_resnet_block_6/conv2d_17/bias:0', 'resnet_9/identity_resnet_block_6/batch_normalization_17/gamma:0', 'resnet_9/identity_resnet_block_6/batch_normalization_17/beta:0', 'resnet_9/identity_resnet_block_6/conv2d_18/kernel:0', 'resnet_9/identity_resnet_block_6/conv2d_18/bias:0'] when minimizing the loss.\n"
          ]
        },
        {
          "output_type": "stream",
          "name": "stderr",
          "text": [
            "WARNING:tensorflow:Gradients do not exist for variables ['resnet_9/identity_resnet_block_5/conv2d_15/kernel:0', 'resnet_9/identity_resnet_block_5/conv2d_15/bias:0', 'resnet_9/identity_resnet_block_5/batch_normalization_15/gamma:0', 'resnet_9/identity_resnet_block_5/batch_normalization_15/beta:0', 'resnet_9/identity_resnet_block_5/conv2d_16/kernel:0', 'resnet_9/identity_resnet_block_5/conv2d_16/bias:0', 'resnet_9/identity_resnet_block_6/conv2d_17/kernel:0', 'resnet_9/identity_resnet_block_6/conv2d_17/bias:0', 'resnet_9/identity_resnet_block_6/batch_normalization_17/gamma:0', 'resnet_9/identity_resnet_block_6/batch_normalization_17/beta:0', 'resnet_9/identity_resnet_block_6/conv2d_18/kernel:0', 'resnet_9/identity_resnet_block_6/conv2d_18/bias:0'] when minimizing the loss.\n"
          ]
        },
        {
          "output_type": "stream",
          "name": "stdout",
          "text": [
            "WARNING:tensorflow:Gradients do not exist for variables ['resnet_9/identity_resnet_block_5/conv2d_15/kernel:0', 'resnet_9/identity_resnet_block_5/conv2d_15/bias:0', 'resnet_9/identity_resnet_block_5/batch_normalization_15/gamma:0', 'resnet_9/identity_resnet_block_5/batch_normalization_15/beta:0', 'resnet_9/identity_resnet_block_5/conv2d_16/kernel:0', 'resnet_9/identity_resnet_block_5/conv2d_16/bias:0', 'resnet_9/identity_resnet_block_6/conv2d_17/kernel:0', 'resnet_9/identity_resnet_block_6/conv2d_17/bias:0', 'resnet_9/identity_resnet_block_6/batch_normalization_17/gamma:0', 'resnet_9/identity_resnet_block_6/batch_normalization_17/beta:0', 'resnet_9/identity_resnet_block_6/conv2d_18/kernel:0', 'resnet_9/identity_resnet_block_6/conv2d_18/bias:0'] when minimizing the loss.\n"
          ]
        },
        {
          "output_type": "stream",
          "name": "stderr",
          "text": [
            "WARNING:tensorflow:Gradients do not exist for variables ['resnet_9/identity_resnet_block_5/conv2d_15/kernel:0', 'resnet_9/identity_resnet_block_5/conv2d_15/bias:0', 'resnet_9/identity_resnet_block_5/batch_normalization_15/gamma:0', 'resnet_9/identity_resnet_block_5/batch_normalization_15/beta:0', 'resnet_9/identity_resnet_block_5/conv2d_16/kernel:0', 'resnet_9/identity_resnet_block_5/conv2d_16/bias:0', 'resnet_9/identity_resnet_block_6/conv2d_17/kernel:0', 'resnet_9/identity_resnet_block_6/conv2d_17/bias:0', 'resnet_9/identity_resnet_block_6/batch_normalization_17/gamma:0', 'resnet_9/identity_resnet_block_6/batch_normalization_17/beta:0', 'resnet_9/identity_resnet_block_6/conv2d_18/kernel:0', 'resnet_9/identity_resnet_block_6/conv2d_18/bias:0'] when minimizing the loss.\n"
          ]
        },
        {
          "output_type": "stream",
          "name": "stdout",
          "text": [
            "1875/1875 [==============================] - 126s 67ms/step - loss: 0.7704 - accuracy: 0.8239\n"
          ]
        },
        {
          "output_type": "execute_result",
          "data": {
            "text/plain": [
              "<keras.callbacks.History at 0x7f685e12f410>"
            ]
          },
          "metadata": {},
          "execution_count": 82
        }
      ]
    },
    {
      "cell_type": "code",
      "metadata": {
        "id": "fpvU_T5zwA2H"
      },
      "source": [
        ""
      ],
      "execution_count": null,
      "outputs": []
    }
  ]
}