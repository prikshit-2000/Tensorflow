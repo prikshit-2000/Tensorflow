{
  "nbformat": 4,
  "nbformat_minor": 0,
  "metadata": {
    "colab": {
      "name": "Resnets.ipynb",
      "provenance": [],
      "authorship_tag": "ABX9TyOmw8X+Urlk/uUkh7M+aAgw",
      "include_colab_link": true
    },
    "kernelspec": {
      "name": "python3",
      "display_name": "Python 3"
    },
    "language_info": {
      "name": "python"
    }
  },
  "cells": [
    {
      "cell_type": "markdown",
      "metadata": {
        "id": "view-in-github",
        "colab_type": "text"
      },
      "source": [
        "<a href=\"https://colab.research.google.com/github/prikshit-2000/Tensorflow/blob/main/Resnets.ipynb\" target=\"_parent\"><img src=\"https://colab.research.google.com/assets/colab-badge.svg\" alt=\"Open In Colab\"/></a>"
      ]
    },
    {
      "cell_type": "code",
      "metadata": {
        "id": "gmwED2U4BH72"
      },
      "source": [
        "import tensorflow as tf\n",
        "from tensorflow.keras.layers import Dense,Flatten,Input,Lambda,Conv2D\n",
        "from tensorflow.keras.models import Model\n",
        "from tensorflow.keras.utils import plot_model\n",
        "import numpy as np\n",
        "import pandas as pd\n",
        "import matplotlib.pyplot as plt"
      ],
      "execution_count": null,
      "outputs": []
    },
    {
      "cell_type": "code",
      "metadata": {
        "id": "nYvmQ5ZmCPz3"
      },
      "source": [
        "class CNNResidual(Model):\n",
        "  def __init__(self,layers,filters,**kwargs):\n",
        "    super().__init__(**kwargs)\n",
        "    self.hidden = [Conv2D(filters,(3,3) , activation = 'relu') for _ in range(layers)]\n",
        "    \n",
        "  def call(self,inputs):\n",
        "    x = inputs\n",
        "    for layer in self.hidden:\n",
        "      x = layer(x)\n",
        "    return x+inputs"
      ],
      "execution_count": null,
      "outputs": []
    },
    {
      "cell_type": "code",
      "metadata": {
        "id": "JgVOPKvQCP7S"
      },
      "source": [
        "class DNNResidual(Model):\n",
        "  def __init__(self,layers,neurons,activation = 'relu',**kwargs):\n",
        "    super().__init__(**kwargs)\n",
        "    self.hidden = [Dense(neurons, activation = activation) for _ in range(layers)]\n",
        "\n",
        "  def call(self,inputs):\n",
        "    x = inputs\n",
        "    for layer in self.hidden:\n",
        "      x = layer(x)\n",
        "    return x + inputs"
      ],
      "execution_count": null,
      "outputs": []
    },
    {
      "cell_type": "code",
      "metadata": {
        "id": "nETb43VBBiG4"
      },
      "source": [
        "class Resnet(Model):\n",
        "  def __init__(self,**kwargs):\n",
        "    super().__init__(**kwargs)\n",
        "    self.hidden = Dense(30,activation = 'relu')\n",
        "    self.block1 = CNNResidual(layers = 2 , filters= 32)\n",
        "    self.block2 = DNNResidual(layers = 2,neurons= 64)\n",
        "    self.out  = Dense(1)\n",
        "\n",
        "    def call(self , inputs):\n",
        "      x = self.hidden(inputs)\n",
        "      x = self.block1(x)\n",
        "      for _ in range(3):\n",
        "        x = self.block2(x)\n",
        "      x = self.out(x)\n",
        "      return x\n",
        "    "
      ],
      "execution_count": null,
      "outputs": []
    },
    {
      "cell_type": "code",
      "metadata": {
        "id": "HOPvBQ7SEG43"
      },
      "source": [
        "model = Resnet()"
      ],
      "execution_count": null,
      "outputs": []
    },
    {
      "cell_type": "code",
      "metadata": {
        "id": "kvIpd1pZGDxq"
      },
      "source": [
        ""
      ],
      "execution_count": null,
      "outputs": []
    }
  ]
}