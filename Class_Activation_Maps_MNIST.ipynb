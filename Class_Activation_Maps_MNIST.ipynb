{
  "nbformat": 4,
  "nbformat_minor": 0,
  "metadata": {
    "colab": {
      "name": "Class Activation Maps MNIST.ipynb",
      "provenance": [],
      "collapsed_sections": [],
      "authorship_tag": "ABX9TyOylJr7vtWO3TS4qnz13RYN",
      "include_colab_link": true
    },
    "kernelspec": {
      "name": "python3",
      "display_name": "Python 3"
    },
    "language_info": {
      "name": "python"
    },
    "accelerator": "GPU"
  },
  "cells": [
    {
      "cell_type": "markdown",
      "metadata": {
        "id": "view-in-github",
        "colab_type": "text"
      },
      "source": [
        "<a href=\"https://colab.research.google.com/github/prikshit-2000/Tensorflow/blob/main/Class_Activation_Maps_MNIST.ipynb\" target=\"_parent\"><img src=\"https://colab.research.google.com/assets/colab-badge.svg\" alt=\"Open In Colab\"/></a>"
      ]
    },
    {
      "cell_type": "code",
      "metadata": {
        "id": "OGIV56Fl7jfA"
      },
      "source": [
        "import numpy as np\n",
        "import matplotlib.pyplot as plt\n",
        "import tensorflow as tf\n",
        "from keras.datasets import fashion_mnist\n",
        "from tensorflow.keras.models import Sequential,Model\n",
        "from tensorflow.keras.layers import  Dense,GlobalAveragePooling2D,MaxPooling2D,Conv2D,Flatten\n",
        "import seaborn as sns\n",
        "import PIL\n",
        "from tensorflow.keras.utils import plot_model"
      ],
      "execution_count": 37,
      "outputs": []
    },
    {
      "cell_type": "code",
      "metadata": {
        "id": "WoyFgD2j7wgY"
      },
      "source": [
        "(X_train,y_train),(X_test,y_test) = fashion_mnist.load_data()\n"
      ],
      "execution_count": 38,
      "outputs": []
    },
    {
      "cell_type": "code",
      "metadata": {
        "id": "q7t5cIOwDZhK"
      },
      "source": [
        ""
      ],
      "execution_count": 38,
      "outputs": []
    },
    {
      "cell_type": "code",
      "metadata": {
        "colab": {
          "base_uri": "https://localhost:8080/"
        },
        "id": "wYN6GekP8dyv",
        "outputId": "cbc6ac9c-79ba-472d-d7c2-34801ed07288"
      },
      "source": [
        "X_test.shape,X_train.shape"
      ],
      "execution_count": 39,
      "outputs": [
        {
          "output_type": "execute_result",
          "data": {
            "text/plain": [
              "((10000, 28, 28), (60000, 28, 28))"
            ]
          },
          "metadata": {},
          "execution_count": 39
        }
      ]
    },
    {
      "cell_type": "code",
      "metadata": {
        "id": "3E7kyfJ188iI"
      },
      "source": [
        "X_train = X_train.reshape(60000,28,28,1)\n",
        "X_test = X_test.reshape(10000,28,28,1)"
      ],
      "execution_count": 40,
      "outputs": []
    },
    {
      "cell_type": "code",
      "metadata": {
        "id": "0IvMeMgv-zHG"
      },
      "source": [
        "X_train  = X_train  / 255.0\n",
        "X_test= X_test / 255.0\n",
        "X_train  = X_train.astype('float')\n",
        "X_test = X_test.astype('float')"
      ],
      "execution_count": 41,
      "outputs": []
    },
    {
      "cell_type": "code",
      "metadata": {
        "id": "eCSjwdYy_BtR"
      },
      "source": [
        "def show_image(img):\n",
        "    image = np.array(img,dtype = 'float')\n",
        "    image = image.reshape((28,28))\n",
        "    plt.imshow(image)\n"
      ],
      "execution_count": 42,
      "outputs": []
    },
    {
      "cell_type": "code",
      "metadata": {
        "colab": {
          "base_uri": "https://localhost:8080/",
          "height": 265
        },
        "id": "PG4BQDKC_Q8M",
        "outputId": "f14a93d0-8de5-4a18-ee2f-7bc4ac9dbd4b"
      },
      "source": [
        "show_image(X_train[3])"
      ],
      "execution_count": 43,
      "outputs": [
        {
          "output_type": "display_data",
          "data": {
            "image/png": "[encoded data removed]",
            "text/plain": [
              "<Figure size 432x288 with 1 Axes>"
            ]
          },
          "metadata": {
            "needs_background": "light"
          }
        }
      ]
    },
    {
      "cell_type": "code",
      "metadata": {
        "colab": {
          "base_uri": "https://localhost:8080/"
        },
        "id": "cCf7gQ0M_Wej",
        "outputId": "62869922-e184-4ff1-8fdb-ba510c0ceb0b"
      },
      "source": [
        "model = Sequential()\n",
        "model.add(Conv2D(16,input_shape = (28,28,1),kernel_size = (3,3) , padding = 'same',activation = 'relu'))\n",
        "model.add(MaxPooling2D(pool_size = (2,2)))\n",
        "model.add(Conv2D(32,kernel_size  = (3,3),padding = 'same',activation = 'relu'))\n",
        "model.add(MaxPooling2D(pool_size = (2,2)))\n",
        "model.add(Conv2D(64,padding = 'same',kernel_size=(3,3),activation='relu'))\n",
        "model.add(MaxPooling2D(pool_size = (2,2)))\n",
        "model.add(Conv2D(128,padding = 'same',kernel_size=(3,3),activation='relu'))\n",
        "model.add(GlobalAveragePooling2D())\n",
        "model.add(Dense(10,activation = 'softmax'))\n",
        "model.summary()"
      ],
      "execution_count": 44,
      "outputs": [
        {
          "output_type": "stream",
          "name": "stdout",
          "text": [
            "Model: \"sequential_2\"\n",
            "_________________________________________________________________\n",
            " Layer (type)                Output Shape              Param #   \n",
            "=================================================================\n",
            " conv2d_8 (Conv2D)           (None, 28, 28, 16)        160       \n",
            "                                                                 \n",
            " max_pooling2d_6 (MaxPooling  (None, 14, 14, 16)       0         \n",
            " 2D)                                                             \n",
            "                                                                 \n",
            " conv2d_9 (Conv2D)           (None, 14, 14, 32)        4640      \n",
            "                                                                 \n",
            " max_pooling2d_7 (MaxPooling  (None, 7, 7, 32)         0         \n",
            " 2D)                                                             \n",
            "                                                                 \n",
            " conv2d_10 (Conv2D)          (None, 7, 7, 64)          18496     \n",
            "                                                                 \n",
            " max_pooling2d_8 (MaxPooling  (None, 3, 3, 64)         0         \n",
            " 2D)                                                             \n",
            "                                                                 \n",
            " conv2d_11 (Conv2D)          (None, 3, 3, 128)         73856     \n",
            "                                                                 \n",
            " global_average_pooling2d_2   (None, 128)              0         \n",
            " (GlobalAveragePooling2D)                                        \n",
            "                                                                 \n",
            " dense_2 (Dense)             (None, 10)                1290      \n",
            "                                                                 \n",
            "=================================================================\n",
            "Total params: 98,442\n",
            "Trainable params: 98,442\n",
            "Non-trainable params: 0\n",
            "_________________________________________________________________\n"
          ]
        }
      ]
    },
    {
      "cell_type": "code",
      "metadata": {
        "id": "twiHI6RxAb1U"
      },
      "source": [
        "model.compile(loss = 'sparse_categorical_crossentropy',optimizer = 'adam',metrics = ['accuracy'])"
      ],
      "execution_count": 45,
      "outputs": []
    },
    {
      "cell_type": "code",
      "metadata": {
        "colab": {
          "base_uri": "https://localhost:8080/"
        },
        "id": "ujj_TKEIAnhz",
        "outputId": "382e8044-8361-41e6-d2f8-a1f90099e6b0"
      },
      "source": [
        "model.fit(X_train,y_train,epochs = 5,batch_size = 32,validation_split = 0.1 , shuffle = True)"
      ],
      "execution_count": 46,
      "outputs": [
        {
          "output_type": "stream",
          "name": "stdout",
          "text": [
            "Epoch 1/5\n",
            "1688/1688 [==============================] - 12s 7ms/step - loss: 0.6201 - accuracy: 0.7685 - val_loss: 0.4127 - val_accuracy: 0.8428\n",
            "Epoch 2/5\n",
            "1688/1688 [==============================] - 12s 7ms/step - loss: 0.3805 - accuracy: 0.8605 - val_loss: 0.3463 - val_accuracy: 0.8777\n",
            "Epoch 3/5\n",
            "1688/1688 [==============================] - 12s 7ms/step - loss: 0.3175 - accuracy: 0.8844 - val_loss: 0.3133 - val_accuracy: 0.8832\n",
            "Epoch 4/5\n",
            "1688/1688 [==============================] - 12s 7ms/step - loss: 0.2806 - accuracy: 0.8972 - val_loss: 0.2685 - val_accuracy: 0.9032\n",
            "Epoch 5/5\n",
            "1688/1688 [==============================] - 12s 7ms/step - loss: 0.2535 - accuracy: 0.9064 - val_loss: 0.2607 - val_accuracy: 0.9078\n"
          ]
        },
        {
          "output_type": "execute_result",
          "data": {
            "text/plain": [
              "<keras.callbacks.History at 0x7faaeb2a8450>"
            ]
          },
          "metadata": {},
          "execution_count": 46
        }
      ]
    },
    {
      "cell_type": "code",
      "metadata": {
        "colab": {
          "base_uri": "https://localhost:8080/"
        },
        "id": "xN5TjHw6AyWL",
        "outputId": "c435e0e4-a8cd-47e9-e865-606bc31c0a08"
      },
      "source": [
        "print(model.layers[-3].name)\n",
        "print(model.layers[-1].name)"
      ],
      "execution_count": 47,
      "outputs": [
        {
          "output_type": "stream",
          "name": "stdout",
          "text": [
            "conv2d_11\n",
            "dense_2\n"
          ]
        }
      ]
    },
    {
      "cell_type": "code",
      "metadata": {
        "colab": {
          "base_uri": "https://localhost:8080/"
        },
        "id": "Hm2Hj7ltBHFW",
        "outputId": "5a4a8721-e4a1-4bd8-d86a-4e9d438434ad"
      },
      "source": [
        "gap_weights = model.layers[-1].get_weights()[0]\n",
        "print(gap_weights.shape)\n",
        "cam_model = Model(inputs =model.input ,outputs =(model.layers[-3].output  , model.layers[-1].output  ) )"
      ],
      "execution_count": 48,
      "outputs": [
        {
          "output_type": "stream",
          "name": "stdout",
          "text": [
            "(128, 10)\n"
          ]
        }
      ]
    },
    {
      "cell_type": "code",
      "metadata": {
        "id": "cyb7C83lChby",
        "outputId": "3b2a7f7c-caa1-439f-ffe1-5e4cad5b2784",
        "colab": {
          "base_uri": "https://localhost:8080/"
        }
      },
      "source": [
        "cam_model.summary()"
      ],
      "execution_count": 49,
      "outputs": [
        {
          "output_type": "stream",
          "name": "stdout",
          "text": [
            "Model: \"model_4\"\n",
            "_________________________________________________________________\n",
            " Layer (type)                Output Shape              Param #   \n",
            "=================================================================\n",
            " conv2d_8_input (InputLayer)  [(None, 28, 28, 1)]      0         \n",
            "                                                                 \n",
            " conv2d_8 (Conv2D)           (None, 28, 28, 16)        160       \n",
            "                                                                 \n",
            " max_pooling2d_6 (MaxPooling  (None, 14, 14, 16)       0         \n",
            " 2D)                                                             \n",
            "                                                                 \n",
            " conv2d_9 (Conv2D)           (None, 14, 14, 32)        4640      \n",
            "                                                                 \n",
            " max_pooling2d_7 (MaxPooling  (None, 7, 7, 32)         0         \n",
            " 2D)                                                             \n",
            "                                                                 \n",
            " conv2d_10 (Conv2D)          (None, 7, 7, 64)          18496     \n",
            "                                                                 \n",
            " max_pooling2d_8 (MaxPooling  (None, 3, 3, 64)         0         \n",
            " 2D)                                                             \n",
            "                                                                 \n",
            " conv2d_11 (Conv2D)          (None, 3, 3, 128)         73856     \n",
            "                                                                 \n",
            " global_average_pooling2d_2   (None, 128)              0         \n",
            " (GlobalAveragePooling2D)                                        \n",
            "                                                                 \n",
            " dense_2 (Dense)             (None, 10)                1290      \n",
            "                                                                 \n",
            "=================================================================\n",
            "Total params: 98,442\n",
            "Trainable params: 98,442\n",
            "Non-trainable params: 0\n",
            "_________________________________________________________________\n"
          ]
        }
      ]
    },
    {
      "cell_type": "code",
      "metadata": {
        "id": "H-s75ksRCnci",
        "outputId": "93957440-903f-4267-c5bd-bedf3a8765b6",
        "colab": {
          "base_uri": "https://localhost:8080/"
        }
      },
      "source": [
        "features,results = cam_model.predict(X_test)\n",
        "features.shape , results.shape"
      ],
      "execution_count": 50,
      "outputs": [
        {
          "output_type": "execute_result",
          "data": {
            "text/plain": [
              "((10000, 3, 3, 128), (10000, 10))"
            ]
          },
          "metadata": {},
          "execution_count": 50
        }
      ]
    },
    {
      "cell_type": "code",
      "metadata": {
        "id": "R4UCOb0-DGHg",
        "outputId": "631976f4-bc56-4949-c4da-e8e6bbb01f15",
        "colab": {
          "base_uri": "https://localhost:8080/",
          "height": 1000
        }
      },
      "source": [
        "import scipy\n",
        "def show_cam(i):\n",
        "    image_index = i\n",
        "    features_for_img = features[image_index , :,:,:]\n",
        "    prediction = np.argmax(results[image_index])\n",
        "    class_activation_weights = gap_weights[:,prediction]\n",
        "    class_activation_features = scipy.ndimage.zoom(features_for_img,(28/3,28/3,1),order = 2)\n",
        "    cam_output = np.dot(class_activation_features,class_activation_weights)\n",
        "\n",
        "    print(\"Predicted Class = \" + str(prediction) + ' Probability  = '  + str(results[image_index][prediction]))\n",
        "    plt.imshow(np.squeeze(X_test[image_index],-1),alpha = 0.5)\n",
        "\n",
        "    if results[image_index][prediction] > 0.95:\n",
        "        cmap_str = 'Greens'\n",
        "    else:\n",
        "        cmap_str = 'Reds'\n",
        "\n",
        "    plt.imshow(cam_output,cmap = cmap_str , alpha = 0.5)\n",
        "    plt.show()\n",
        "\n",
        "desired_class = 2\n",
        "for i in range(0,100):\n",
        "    if np.argmax(results[i]) == desired_class:\n",
        "        show_cam(i)\n",
        "\n",
        "\n",
        "\n"
      ],
      "execution_count": 63,
      "outputs": [
        {
          "metadata": {
            "tags": null
          },
          "name": "stdout",
          "output_type": "stream",
          "text": [
            "Predicted Class = 2 Probability  = 0.9865754\n"
          ]
        },
        {
          "data": {
            "image/png": "[encoded data removed]",
            "text/plain": [
              "<Figure size 432x288 with 1 Axes>"
            ]
          },
          "metadata": {},
          "output_type": "display_data"
        },
        {
          "metadata": {
            "tags": null
          },
          "name": "stdout",
          "output_type": "stream",
          "text": [
            "Predicted Class = 2 Probability  = 0.5138678\n"
          ]
        },
        {
          "data": {
            "image/png": "[encoded data removed]",
            "text/plain": [
              "<Figure size 432x288 with 1 Axes>"
            ]
          },
          "metadata": {},
          "output_type": "display_data"
        },
        {
          "metadata": {
            "tags": null
          },
          "name": "stdout",
          "output_type": "stream",
          "text": [
            "Predicted Class = 2 Probability  = 0.95830387\n"
          ]
        },
        {
          "data": {
            "image/png": "[encoded data removed]",
            "text/plain": [
              "<Figure size 432x288 with 1 Axes>"
            ]
          },
          "metadata": {},
          "output_type": "display_data"
        },
        {
          "metadata": {
            "tags": null
          },
          "name": "stdout",
          "output_type": "stream",
          "text": [
            "Predicted Class = 2 Probability  = 0.9843464\n"
          ]
        },
        {
          "data": {
            "image/png": "[encoded data removed]",
            "text/plain": [
              "<Figure size 432x288 with 1 Axes>"
            ]
          },
          "metadata": {},
          "output_type": "display_data"
        },
        {
          "metadata": {
            "tags": null
          },
          "name": "stdout",
          "output_type": "stream",
          "text": [
            "Predicted Class = 2 Probability  = 0.5292323\n"
          ]
        },
        {
          "data": {
            "image/png": "[encoded data removed]",
            "text/plain": [
              "<Figure size 432x288 with 1 Axes>"
            ]
          },
          "metadata": {},
          "output_type": "display_data"
        },
        {
          "metadata": {
            "tags": null
          },
          "name": "stdout",
          "output_type": "stream",
          "text": [
            "Predicted Class = 2 Probability  = 0.85808265\n"
          ]
        },
        {
          "data": {
            "image/png": "[encoded data removed]",
            "text/plain": [
              "<Figure size 432x288 with 1 Axes>"
            ]
          },
          "metadata": {},
          "output_type": "display_data"
        },
        {
          "metadata": {
            "tags": null
          },
          "name": "stdout",
          "output_type": "stream",
          "text": [
            "Predicted Class = 2 Probability  = 0.5863779\n"
          ]
        },
        {
          "data": {
            "image/png": "[encoded data removed]",
            "text/plain": [
              "<Figure size 432x288 with 1 Axes>"
            ]
          },
          "metadata": {},
          "output_type": "display_data"
        },
        {
          "metadata": {
            "tags": null
          },
          "name": "stdout",
          "output_type": "stream",
          "text": [
            "Predicted Class = 2 Probability  = 0.53109294\n"
          ]
        },
        {
          "data": {
            "image/png": "[encoded data removed]",
            "text/plain": [
              "<Figure size 432x288 with 1 Axes>"
            ]
          },
          "metadata": {},
          "output_type": "display_data"
        },
        {
          "metadata": {
            "tags": null
          },
          "name": "stdout",
          "output_type": "stream",
          "text": [
            "Predicted Class = 2 Probability  = 0.9272666\n"
          ]
        },
        {
          "data": {
            "image/png": "[encoded data removed]",
            "text/plain": [
              "<Figure size 432x288 with 1 Axes>"
            ]
          },
          "metadata": {},
          "output_type": "display_data"
        },
        {
          "metadata": {
            "tags": null
          },
          "name": "stdout",
          "output_type": "stream",
          "text": [
            "Predicted Class = 2 Probability  = 0.96204156\n"
          ]
        },
        {
          "data": {
            "image/png": "[encoded data removed]",
            "text/plain": [
              "<Figure size 432x288 with 1 Axes>"
            ]
          },
          "metadata": {},
          "output_type": "display_data"
        },
        {
          "metadata": {
            "tags": null
          },
          "name": "stdout",
          "output_type": "stream",
          "text": [
            "Predicted Class = 2 Probability  = 0.9866651\n"
          ]
        },
        {
          "data": {
            "image/png": "[encoded data removed]",
            "text/plain": [
              "<Figure size 432x288 with 1 Axes>"
            ]
          },
          "metadata": {},
          "output_type": "display_data"
        },
        {
          "metadata": {
            "tags": null
          },
          "name": "stdout",
          "output_type": "stream",
          "text": [
            "Predicted Class = 2 Probability  = 0.70387846\n"
          ]
        },
        {
          "data": {
            "image/png": "[encoded data removed]",
            "text/plain": [
              "<Figure size 432x288 with 1 Axes>"
            ]
          },
          "metadata": {},
          "output_type": "display_data"
        },
        {
          "metadata": {
            "tags": null
          },
          "name": "stdout",
          "output_type": "stream",
          "text": [
            "Predicted Class = 2 Probability  = 0.994232\n"
          ]
        },
        {
          "data": {
            "image/png": "[encoded data removed]",
            "text/plain": [
              "<Figure size 432x288 with 1 Axes>"
            ]
          },
          "metadata": {},
          "output_type": "display_data"
        },
        {
          "metadata": {
            "tags": null
          },
          "name": "stdout",
          "output_type": "stream",
          "text": [
            "Predicted Class = 2 Probability  = 0.9965198\n"
          ]
        },
        {
          "data": {
            "image/png": "[encoded data removed]",
            "text/plain": [
              "<Figure size 432x288 with 1 Axes>"
            ]
          },
          "metadata": {},
          "output_type": "display_data"
        },
        {
          "metadata": {
            "tags": null
          },
          "name": "stdout",
          "output_type": "stream",
          "text": [
            "Predicted Class = 2 Probability  = 0.5368951\n"
          ]
        },
        {
          "data": {
            "image/png": "[encoded data removed]",
            "text/plain": [
              "<Figure size 432x288 with 1 Axes>"
            ]
          },
          "metadata": {},
          "output_type": "display_data"
        },
        {
          "metadata": {
            "tags": null
          },
          "name": "stdout",
          "output_type": "stream",
          "text": [
            "Predicted Class = 2 Probability  = 0.5287736\n"
          ]
        },
        {
          "data": {
            "image/png": "[encoded data removed]",
            "text/plain": [
              "<Figure size 432x288 with 1 Axes>"
            ]
          },
          "metadata": {},
          "output_type": "display_data"
        },
        {
          "metadata": {
            "tags": null
          },
          "name": "stdout",
          "output_type": "stream",
          "text": [
            "Predicted Class = 2 Probability  = 0.99010897\n"
          ]
        },
        {
          "data": {
            "image/png": "[encoded data removed]",
            "text/plain": [
              "<Figure size 432x288 with 1 Axes>"
            ]
          },
          "metadata": {},
          "output_type": "display_data"
        }
      ]
    },
    {
      "cell_type": "code",
      "metadata": {
        "id": "YTYNmukKG2X7"
      },
      "source": [
        ""
      ],
      "execution_count": null,
      "outputs": []
    }
  ]
}